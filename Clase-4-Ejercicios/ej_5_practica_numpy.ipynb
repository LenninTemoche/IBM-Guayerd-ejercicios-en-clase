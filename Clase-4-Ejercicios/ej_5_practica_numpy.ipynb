{
  "cells": [
    {
      "cell_type": "markdown",
      "id": "c6b908b4",
      "metadata": {
        "id": "c6b908b4"
      },
      "source": [
        "Listas vs Arrays"
      ]
    },
    {
      "cell_type": "code",
      "execution_count": 1,
      "id": "54b014b9",
      "metadata": {
        "id": "54b014b9"
      },
      "outputs": [],
      "source": [
        "import numpy as np # Importa la librería numpy con el alias np"
      ]
    },
    {
      "cell_type": "code",
      "execution_count": 2,
      "id": "b2ddecae",
      "metadata": {
        "id": "b2ddecae"
      },
      "outputs": [],
      "source": [
        "my_list=[1,2,3,4] # Define una lista de Python"
      ]
    },
    {
      "cell_type": "code",
      "execution_count": 3,
      "id": "990d1152",
      "metadata": {
        "id": "990d1152"
      },
      "outputs": [],
      "source": [
        "arr=np.array(my_list) # Convierte la lista de Python a un array de NumPy"
      ]
    },
    {
      "cell_type": "code",
      "execution_count": 4,
      "id": "4ddc2282",
      "metadata": {
        "colab": {
          "base_uri": "https://localhost:8080/"
        },
        "id": "4ddc2282",
        "outputId": "ac58b5b6-382d-4ed1-f4a9-dd2a50ff0931"
      },
      "outputs": [
        {
          "data": {
            "text/plain": [
              "array([1, 2, 3, 4])"
            ]
          },
          "execution_count": 4,
          "metadata": {},
          "output_type": "execute_result"
        }
      ],
      "source": [
        "arr # Muestra el array"
      ]
    },
    {
      "cell_type": "code",
      "execution_count": 5,
      "id": "4e5d320d",
      "metadata": {
        "colab": {
          "base_uri": "https://localhost:8080/"
        },
        "id": "4e5d320d",
        "outputId": "fb94aa32-d3c4-474e-f544-47f3b38d2885"
      },
      "outputs": [
        {
          "name": "stdout",
          "output_type": "stream",
          "text": [
            "[1 2 3 4]\n"
          ]
        }
      ],
      "source": [
        "print(arr) # Imprime el array"
      ]
    },
    {
      "cell_type": "code",
      "execution_count": 6,
      "id": "c2804773",
      "metadata": {
        "id": "c2804773"
      },
      "outputs": [],
      "source": [
        "lista=[1,2,3,'Hola Mundo'] # Define una lista de Python con diferentes tipos de datos"
      ]
    },
    {
      "cell_type": "code",
      "execution_count": 7,
      "id": "fa784f80",
      "metadata": {
        "colab": {
          "base_uri": "https://localhost:8080/",
          "height": 35
        },
        "id": "fa784f80",
        "outputId": "8e0273e3-40da-4071-a55e-5be053142333"
      },
      "outputs": [
        {
          "data": {
            "text/plain": [
              "'Hola Mundo'"
            ]
          },
          "execution_count": 7,
          "metadata": {},
          "output_type": "execute_result"
        }
      ],
      "source": [
        "(lista[3]) # Accede al cuarto elemento de la lista (índice 3)"
      ]
    },
    {
      "cell_type": "code",
      "execution_count": 8,
      "id": "b70b06ee",
      "metadata": {
        "id": "b70b06ee"
      },
      "outputs": [],
      "source": [
        "matriz=[[1,2,3],\n",
        "        [4,5,6],\n",
        "        [7,8,9]] # Define una lista anidada que representa una matriz"
      ]
    },
    {
      "cell_type": "code",
      "execution_count": 9,
      "id": "cc17369e",
      "metadata": {
        "colab": {
          "base_uri": "https://localhost:8080/"
        },
        "id": "cc17369e",
        "outputId": "3a96f6c9-993c-4d73-f358-3f31fd6b0055"
      },
      "outputs": [
        {
          "data": {
            "text/plain": [
              "[7, 8, 9]"
            ]
          },
          "execution_count": 9,
          "metadata": {},
          "output_type": "execute_result"
        }
      ],
      "source": [
        "matriz[2] # Accede a la tercera fila de la matriz (índice 2)"
      ]
    },
    {
      "cell_type": "code",
      "execution_count": 10,
      "id": "a61b6e28",
      "metadata": {
        "colab": {
          "base_uri": "https://localhost:8080/"
        },
        "id": "a61b6e28",
        "outputId": "14a97518-18f9-49e7-8463-77704a1725ad"
      },
      "outputs": [
        {
          "data": {
            "text/plain": [
              "8"
            ]
          },
          "execution_count": 10,
          "metadata": {},
          "output_type": "execute_result"
        }
      ],
      "source": [
        "matriz[2][1] # Accede al segundo elemento (índice 1) de la tercera fila (índice 2)"
      ]
    },
    {
      "cell_type": "code",
      "execution_count": 11,
      "id": "f332e8f5",
      "metadata": {
        "id": "f332e8f5"
      },
      "outputs": [],
      "source": [
        "import numpy as np # Importa la librería numpy (ya importada anteriormente, pero se puede incluir de nuevo por claridad en esta sección)"
      ]
    },
    {
      "cell_type": "code",
      "execution_count": 12,
      "id": "1932da14",
      "metadata": {
        "colab": {
          "base_uri": "https://localhost:8080/"
        },
        "id": "1932da14",
        "outputId": "565c573b-f6f6-4b40-d298-f990837ba536"
      },
      "outputs": [
        {
          "data": {
            "text/plain": [
              "array([3, 4])"
            ]
          },
          "execution_count": 12,
          "metadata": {},
          "output_type": "execute_result"
        }
      ],
      "source": [
        "numero=[3,4,46] # Define una lista de Python\n",
        "a=np.array(numero) # Convierte la lista a un array de NumPy\n",
        "a[0:2] # Accede a los elementos del array desde el índice 0 hasta antes del índice 2"
      ]
    },
    {
      "cell_type": "code",
      "execution_count": 13,
      "id": "60d5e2f2",
      "metadata": {
        "colab": {
          "base_uri": "https://localhost:8080/"
        },
        "id": "60d5e2f2",
        "outputId": "aa002a3d-0566-4405-a6e1-b157674e5420"
      },
      "outputs": [
        {
          "data": {
            "text/plain": [
              "[3, 4, 46]"
            ]
          },
          "execution_count": 13,
          "metadata": {},
          "output_type": "execute_result"
        }
      ],
      "source": [
        "numero # Muestra la lista original"
      ]
    },
    {
      "cell_type": "code",
      "execution_count": 14,
      "id": "c3b1d45f",
      "metadata": {
        "colab": {
          "base_uri": "https://localhost:8080/"
        },
        "id": "c3b1d45f",
        "outputId": "f1a5dc22-7519-44a2-b867-70e841976ea0"
      },
      "outputs": [
        {
          "name": "stdout",
          "output_type": "stream",
          "text": [
            "[3 4]\n"
          ]
        }
      ],
      "source": [
        "print(a[0:2]) # Imprime los elementos del array desde el índice 0 hasta antes del índice 2"
      ]
    },
    {
      "cell_type": "code",
      "execution_count": 15,
      "id": "b88ec2c6",
      "metadata": {
        "colab": {
          "base_uri": "https://localhost:8080/"
        },
        "id": "b88ec2c6",
        "outputId": "07d977fd-10f3-41e7-8322-013be2c248e1"
      },
      "outputs": [
        {
          "data": {
            "text/plain": [
              "numpy.ndarray"
            ]
          },
          "execution_count": 15,
          "metadata": {},
          "output_type": "execute_result"
        }
      ],
      "source": [
        "type(a) # Verifica el tipo de dato de la variable 'a' (debería ser un ndarray de NumPy)"
      ]
    },
    {
      "cell_type": "code",
      "execution_count": 16,
      "id": "faa900d5",
      "metadata": {
        "colab": {
          "base_uri": "https://localhost:8080/"
        },
        "id": "faa900d5",
        "outputId": "e489c46b-e164-442c-dab3-0f0032f2008f"
      },
      "outputs": [
        {
          "name": "stdout",
          "output_type": "stream",
          "text": [
            "['1' '2' '3' 'Hola Mundo']\n"
          ]
        }
      ],
      "source": [
        "b=np.array(lista) # Convierte la lista 'lista' (que contiene diferentes tipos de datos) a un array de NumPy\n",
        "print(b) # Imprime el array resultante. Observa cómo NumPy intenta encontrar un tipo de dato común (en este caso, cadenas)"
      ]
    },
    {
      "cell_type": "code",
      "execution_count": 17,
      "id": "a96701e7",
      "metadata": {
        "colab": {
          "base_uri": "https://localhost:8080/"
        },
        "id": "a96701e7",
        "outputId": "f4e81ea9-f628-41d9-aec2-b20feaf1f880"
      },
      "outputs": [
        {
          "data": {
            "text/plain": [
              "numpy.ndarray"
            ]
          },
          "execution_count": 17,
          "metadata": {},
          "output_type": "execute_result"
        }
      ],
      "source": [
        "type(b) # Verifica el tipo de dato de la variable 'b'"
      ]
    },
    {
      "cell_type": "code",
      "execution_count": 18,
      "id": "0d71af9a",
      "metadata": {
        "id": "0d71af9a"
      },
      "outputs": [],
      "source": [
        "lista=[2,4,6] # Define una nueva lista de Python"
      ]
    },
    {
      "cell_type": "code",
      "execution_count": 19,
      "id": "fd27e776",
      "metadata": {
        "id": "fd27e776"
      },
      "outputs": [],
      "source": [
        "c=np.array(lista) # Convierte la nueva lista a un array de NumPy"
      ]
    },
    {
      "cell_type": "code",
      "execution_count": 20,
      "id": "d598d06c",
      "metadata": {
        "colab": {
          "base_uri": "https://localhost:8080/"
        },
        "id": "d598d06c",
        "outputId": "d6b60d10-8a9e-4d1d-fb16-81762a41c7e2"
      },
      "outputs": [
        {
          "data": {
            "text/plain": [
              "array([ 8, 16, 24])"
            ]
          },
          "execution_count": 20,
          "metadata": {},
          "output_type": "execute_result"
        }
      ],
      "source": [
        "c*4 # Multiplica cada elemento del array 'c' por 4 (broadcasting)"
      ]
    },
    {
      "cell_type": "code",
      "execution_count": 21,
      "id": "c242890c",
      "metadata": {
        "id": "c242890c"
      },
      "outputs": [],
      "source": [
        "secuencia=np.arange(25) # Crea un array de NumPy con una secuencia de números del 0 al 24"
      ]
    },
    {
      "cell_type": "code",
      "execution_count": 22,
      "id": "5fce7fab",
      "metadata": {
        "colab": {
          "base_uri": "https://localhost:8080/"
        },
        "id": "5fce7fab",
        "outputId": "eef481e5-65d5-412c-b535-c7ab3641fc7d"
      },
      "outputs": [
        {
          "data": {
            "text/plain": [
              "array([ 0,  1,  2,  3,  4,  5,  6,  7,  8,  9, 10, 11, 12, 13, 14, 15, 16,\n",
              "       17, 18, 19, 20, 21, 22, 23, 24])"
            ]
          },
          "execution_count": 22,
          "metadata": {},
          "output_type": "execute_result"
        }
      ],
      "source": [
        "secuencia # Muestra el array 'secuencia'"
      ]
    },
    {
      "cell_type": "code",
      "execution_count": 23,
      "id": "ad62d725",
      "metadata": {
        "colab": {
          "base_uri": "https://localhost:8080/"
        },
        "id": "ad62d725",
        "outputId": "0cbeb5e2-969c-46ff-b1b0-5baad40eb310"
      },
      "outputs": [
        {
          "name": "stdout",
          "output_type": "stream",
          "text": [
            "[ 0  1  2  3  4  5  6  7  8  9 10 11 12 13 14 15 16 17 18 19 20 21 22 23\n",
            " 24]\n"
          ]
        }
      ],
      "source": [
        "print(secuencia) # Imprime el array 'secuencia'"
      ]
    },
    {
      "cell_type": "code",
      "execution_count": 24,
      "id": "5737c356",
      "metadata": {
        "id": "5737c356"
      },
      "outputs": [],
      "source": [
        "impares=np.arange(1,24,2) # Crea un array de NumPy con números impares desde 1 hasta antes de 24"
      ]
    },
    {
      "cell_type": "code",
      "execution_count": 25,
      "id": "ed452498",
      "metadata": {
        "colab": {
          "base_uri": "https://localhost:8080/"
        },
        "id": "ed452498",
        "outputId": "00cd5b19-2f42-4250-bacb-f583c2fa3f4a"
      },
      "outputs": [
        {
          "data": {
            "text/plain": [
              "array([ 1,  3,  5,  7,  9, 11, 13, 15, 17, 19, 21, 23])"
            ]
          },
          "execution_count": 25,
          "metadata": {},
          "output_type": "execute_result"
        }
      ],
      "source": [
        "impares # Muestra el array 'impares'"
      ]
    },
    {
      "cell_type": "code",
      "execution_count": 26,
      "id": "f34ac1e3",
      "metadata": {
        "id": "f34ac1e3"
      },
      "outputs": [],
      "source": [
        "secuencia=np.linspace(3,8,10) # Crea un array de NumPy con 10 números espaciados uniformemente entre 3 y 8"
      ]
    },
    {
      "cell_type": "code",
      "execution_count": 27,
      "id": "b1e689cd",
      "metadata": {
        "colab": {
          "base_uri": "https://localhost:8080/"
        },
        "id": "b1e689cd",
        "outputId": "3a1a3c8b-606c-4cb3-dabe-b32030b99c17"
      },
      "outputs": [
        {
          "data": {
            "text/plain": [
              "array([3.        , 3.55555556, 4.11111111, 4.66666667, 5.22222222,\n",
              "       5.77777778, 6.33333333, 6.88888889, 7.44444444, 8.        ])"
            ]
          },
          "execution_count": 27,
          "metadata": {},
          "output_type": "execute_result"
        }
      ],
      "source": [
        "secuencia # Muestra el array 'secuencia'"
      ]
    },
    {
      "cell_type": "code",
      "execution_count": 28,
      "id": "3898c80f",
      "metadata": {
        "id": "3898c80f"
      },
      "outputs": [],
      "source": [
        "ceros=np.zeros((4,4),dtype=int) # Crea un array de NumPy de 4x4 lleno de ceros con tipo de dato entero"
      ]
    },
    {
      "cell_type": "code",
      "execution_count": 29,
      "id": "92315b3b",
      "metadata": {
        "colab": {
          "base_uri": "https://localhost:8080/"
        },
        "id": "92315b3b",
        "outputId": "ef568408-8feb-46bc-9051-a2a90b9c845e"
      },
      "outputs": [
        {
          "data": {
            "text/plain": [
              "array([[0, 0, 0, 0],\n",
              "       [0, 0, 0, 0],\n",
              "       [0, 0, 0, 0],\n",
              "       [0, 0, 0, 0]])"
            ]
          },
          "execution_count": 29,
          "metadata": {},
          "output_type": "execute_result"
        }
      ],
      "source": [
        "ceros # Muestra el array 'ceros'"
      ]
    },
    {
      "cell_type": "code",
      "execution_count": 30,
      "id": "0011016e",
      "metadata": {
        "id": "0011016e"
      },
      "outputs": [],
      "source": [
        "cincos=np.full((3,3),5) # Crea un array de NumPy de 3x3 lleno de cincos"
      ]
    },
    {
      "cell_type": "code",
      "execution_count": 31,
      "id": "40b90a88",
      "metadata": {
        "colab": {
          "base_uri": "https://localhost:8080/"
        },
        "id": "40b90a88",
        "outputId": "7bb5cbf8-dd8d-412e-d696-c3c4d09d3204"
      },
      "outputs": [
        {
          "data": {
            "text/plain": [
              "(4, 4)"
            ]
          },
          "execution_count": 31,
          "metadata": {},
          "output_type": "execute_result"
        }
      ],
      "source": [
        "ceros.shape # Muestra la forma (dimensiones) del array 'ceros'"
      ]
    },
    {
      "cell_type": "code",
      "execution_count": 32,
      "id": "33588103",
      "metadata": {
        "colab": {
          "base_uri": "https://localhost:8080/"
        },
        "id": "33588103",
        "outputId": "389c6798-2473-4bb0-91f9-17ec3ac87000"
      },
      "outputs": [
        {
          "data": {
            "text/plain": [
              "array([[5, 5, 5],\n",
              "       [5, 5, 5],\n",
              "       [5, 5, 5]])"
            ]
          },
          "execution_count": 32,
          "metadata": {},
          "output_type": "execute_result"
        }
      ],
      "source": [
        "cincos # Muestra el array 'cincos'"
      ]
    },
    {
      "cell_type": "code",
      "execution_count": 33,
      "id": "d73213b4",
      "metadata": {
        "colab": {
          "base_uri": "https://localhost:8080/"
        },
        "id": "d73213b4",
        "outputId": "75bbee87-9e42-4940-9dd2-726ec1afd11d"
      },
      "outputs": [
        {
          "data": {
            "text/plain": [
              "array([[3125, 3125, 3125],\n",
              "       [3125, 3125, 3125],\n",
              "       [3125, 3125, 3125]])"
            ]
          },
          "execution_count": 33,
          "metadata": {},
          "output_type": "execute_result"
        }
      ],
      "source": [
        "cincos**5 # Eleva cada elemento del array 'cincos' a la potencia de 5"
      ]
    },
    {
      "cell_type": "code",
      "execution_count": 34,
      "id": "7c8a654a",
      "metadata": {
        "id": "7c8a654a"
      },
      "outputs": [],
      "source": [
        "arr1=np.full((5,4) ,3) # Crea un array de NumPy de 5x4 lleno de tres"
      ]
    },
    {
      "cell_type": "code",
      "execution_count": 35,
      "id": "9a9efa7c",
      "metadata": {
        "id": "9a9efa7c"
      },
      "outputs": [],
      "source": [
        "arr1=np.full(shape=(5,4),fill_value=4.42) # Crea un array de NumPy de 5x4 lleno de 4.42"
      ]
    },
    {
      "cell_type": "code",
      "execution_count": 36,
      "id": "968f19ad",
      "metadata": {
        "colab": {
          "base_uri": "https://localhost:8080/"
        },
        "id": "968f19ad",
        "outputId": "a82de139-aaff-4a6d-e3d7-df390fa08557"
      },
      "outputs": [
        {
          "data": {
            "text/plain": [
              "array([[4.42, 4.42, 4.42, 4.42],\n",
              "       [4.42, 4.42, 4.42, 4.42],\n",
              "       [4.42, 4.42, 4.42, 4.42],\n",
              "       [4.42, 4.42, 4.42, 4.42],\n",
              "       [4.42, 4.42, 4.42, 4.42]])"
            ]
          },
          "execution_count": 36,
          "metadata": {},
          "output_type": "execute_result"
        }
      ],
      "source": [
        "arr1 # Muestra el array 'arr1'"
      ]
    },
    {
      "cell_type": "code",
      "execution_count": 37,
      "id": "dc72f45d",
      "metadata": {
        "colab": {
          "base_uri": "https://localhost:8080/"
        },
        "id": "dc72f45d",
        "outputId": "d619a555-71a2-4454-eb36-5049f9b5abab"
      },
      "outputs": [
        {
          "data": {
            "text/plain": [
              "array([[4.42, 4.42, 4.42, 4.42],\n",
              "       [4.42, 4.42, 4.42, 4.42],\n",
              "       [4.42, 4.42, 4.42, 4.42],\n",
              "       [4.42, 4.42, 4.42, 4.42],\n",
              "       [4.42, 4.42, 4.42, 4.42]])"
            ]
          },
          "execution_count": 37,
          "metadata": {},
          "output_type": "execute_result"
        }
      ],
      "source": [
        "arr1 # Muestra el array 'arr1' (después de ser reasignado en la celda anterior)"
      ]
    },
    {
      "cell_type": "code",
      "execution_count": 38,
      "id": "b803ef4b",
      "metadata": {
        "id": "b803ef4b"
      },
      "outputs": [],
      "source": [
        "azar=np.random.rand(4,3) # Crea un array de NumPy de 4x3 con números aleatorios entre 0 y 1"
      ]
    },
    {
      "cell_type": "code",
      "execution_count": 39,
      "id": "cf2d49cf",
      "metadata": {
        "colab": {
          "base_uri": "https://localhost:8080/"
        },
        "id": "cf2d49cf",
        "outputId": "399255c0-2985-4fe1-93f6-d5fddf90b0fa"
      },
      "outputs": [
        {
          "data": {
            "text/plain": [
              "array([[0.40195771, 0.50846819, 0.2772512 ],\n",
              "       [0.06133288, 0.77074463, 0.08914653],\n",
              "       [0.3865438 , 0.48759704, 0.08937584],\n",
              "       [0.08318629, 0.63261135, 0.13017441]])"
            ]
          },
          "execution_count": 39,
          "metadata": {},
          "output_type": "execute_result"
        }
      ],
      "source": [
        "azar # Muestra el array 'azar'"
      ]
    },
    {
      "cell_type": "code",
      "execution_count": 40,
      "id": "be277627",
      "metadata": {
        "colab": {
          "base_uri": "https://localhost:8080/"
        },
        "id": "be277627",
        "outputId": "a20122e2-fe3b-4387-d675-15bc75889f39"
      },
      "outputs": [
        {
          "name": "stdout",
          "output_type": "stream",
          "text": [
            "[[0.40195771 0.50846819 0.2772512 ]\n",
            " [0.06133288 0.77074463 0.08914653]\n",
            " [0.3865438  0.48759704 0.08937584]\n",
            " [0.08318629 0.63261135 0.13017441]]\n"
          ]
        }
      ],
      "source": [
        "print(azar) # Imprime el array 'azar' con números aleatorios entre 0 y 1"
      ]
    },
    {
      "cell_type": "code",
      "execution_count": 41,
      "id": "5af14add",
      "metadata": {
        "id": "5af14add"
      },
      "outputs": [],
      "source": [
        "azar=np.random.randint(1,19,(4,5)) # Crea un array de NumPy de 4x5 con números enteros aleatorios entre 1 (inclusive) y 19 (exclusive)"
      ]
    },
    {
      "cell_type": "code",
      "execution_count": 42,
      "id": "6f612795",
      "metadata": {
        "colab": {
          "base_uri": "https://localhost:8080/"
        },
        "id": "6f612795",
        "outputId": "0d0f21ef-0082-42a4-bfab-b1d252cbb9d8"
      },
      "outputs": [
        {
          "data": {
            "text/plain": [
              "(4, 5)"
            ]
          },
          "execution_count": 42,
          "metadata": {},
          "output_type": "execute_result"
        }
      ],
      "source": [
        "azar.shape # Muestra la forma (dimensiones) del array 'azar'"
      ]
    },
    {
      "cell_type": "code",
      "execution_count": 43,
      "id": "75b7298d",
      "metadata": {
        "id": "75b7298d"
      },
      "outputs": [],
      "source": [
        "azar2=azar.reshape(2,10) # Remodela el array 'azar' a una forma de 2 filas y 10 columnas"
      ]
    },
    {
      "cell_type": "code",
      "execution_count": 44,
      "id": "3c58ccc0",
      "metadata": {
        "colab": {
          "base_uri": "https://localhost:8080/"
        },
        "id": "3c58ccc0",
        "outputId": "4774f1ff-8253-4c60-efeb-59d798af3f24"
      },
      "outputs": [
        {
          "data": {
            "text/plain": [
              "array([[ 9, 13,  1, 17,  3,  5,  1, 13,  5, 13],\n",
              "       [ 7, 13,  7,  6, 17,  3,  7,  1, 11, 15]], dtype=int32)"
            ]
          },
          "execution_count": 44,
          "metadata": {},
          "output_type": "execute_result"
        }
      ],
      "source": [
        "azar2 # Muestra el array 'azar2' remodelado"
      ]
    },
    {
      "cell_type": "code",
      "execution_count": 45,
      "id": "9948961e",
      "metadata": {
        "colab": {
          "base_uri": "https://localhost:8080/"
        },
        "id": "9948961e",
        "outputId": "b2047214-06a5-4f1f-b559-d83f8eacea3c"
      },
      "outputs": [
        {
          "data": {
            "text/plain": [
              "array([[ 9, 13,  1, 17,  3],\n",
              "       [ 5,  1, 13,  5, 13],\n",
              "       [ 7, 13,  7,  6, 17],\n",
              "       [ 3,  7,  1, 11, 15]], dtype=int32)"
            ]
          },
          "execution_count": 45,
          "metadata": {},
          "output_type": "execute_result"
        }
      ],
      "source": [
        "azar # Muestra el array 'azar' original (la operación reshape crea una vista, no modifica el original por defecto)"
      ]
    },
    {
      "cell_type": "code",
      "execution_count": 46,
      "id": "3ed676d5",
      "metadata": {
        "colab": {
          "base_uri": "https://localhost:8080/"
        },
        "id": "3ed676d5",
        "outputId": "bedcf22b-5d70-468f-c773-c1964980a9a8"
      },
      "outputs": [
        {
          "data": {
            "text/plain": [
              "np.int32(13)"
            ]
          },
          "execution_count": 46,
          "metadata": {},
          "output_type": "execute_result"
        }
      ],
      "source": [
        "azar[1,2] # Accede al elemento en la fila con índice 1 y columna con índice 2 del array 'azar'"
      ]
    },
    {
      "cell_type": "code",
      "execution_count": 47,
      "id": "9e15d9a0",
      "metadata": {
        "colab": {
          "base_uri": "https://localhost:8080/"
        },
        "id": "9e15d9a0",
        "outputId": "6ca94fb8-aff5-4395-9bae-2c6e0971a68b"
      },
      "outputs": [
        {
          "data": {
            "text/plain": [
              "array([ 1, 13,  7,  1], dtype=int32)"
            ]
          },
          "execution_count": 47,
          "metadata": {},
          "output_type": "execute_result"
        }
      ],
      "source": [
        "azar[:,2] # Accede a todos los elementos de la columna con índice 2 del array 'azar'"
      ]
    },
    {
      "cell_type": "code",
      "execution_count": 48,
      "id": "48ba8cd5",
      "metadata": {
        "id": "48ba8cd5"
      },
      "outputs": [],
      "source": [
        "mascara= azar>10 # Crea un array booleano (máscara) donde los elementos son True si el valor correspondiente en 'azar' es mayor que 10, y False en caso contrario"
      ]
    },
    {
      "cell_type": "code",
      "execution_count": 49,
      "id": "8b667c09",
      "metadata": {
        "colab": {
          "base_uri": "https://localhost:8080/"
        },
        "id": "8b667c09",
        "outputId": "14576c0c-f542-46fc-9d76-3ca98b7b4d31"
      },
      "outputs": [
        {
          "data": {
            "text/plain": [
              "array([13, 17, 13, 13, 13, 17, 11, 15], dtype=int32)"
            ]
          },
          "execution_count": 49,
          "metadata": {},
          "output_type": "execute_result"
        }
      ],
      "source": [
        "azar[mascara] # Usa la máscara booleana para seleccionar y mostrar solo los elementos de 'azar' que son mayores que 10"
      ]
    },
    {
      "cell_type": "code",
      "execution_count": 50,
      "id": "d21af58c",
      "metadata": {
        "id": "d21af58c",
        "outputId": "c8d65529-3ceb-406f-df38-3585d22ceb1d"
      },
      "outputs": [
        {
          "data": {
            "text/plain": [
              "array([[False,  True, False,  True, False],\n",
              "       [False, False,  True, False,  True],\n",
              "       [False,  True, False, False,  True],\n",
              "       [False, False, False,  True,  True]])"
            ]
          },
          "execution_count": 50,
          "metadata": {},
          "output_type": "execute_result"
        }
      ],
      "source": [
        "mascara"
      ]
    },
    {
      "cell_type": "code",
      "execution_count": 51,
      "id": "78e474b2",
      "metadata": {
        "id": "78e474b2"
      },
      "outputs": [],
      "source": [
        "# Esta celda está vacía. Podrías usarla para probar alguna otra operación con el array 'azar' o la máscara 'mascara'."
      ]
    },
    {
      "cell_type": "code",
      "execution_count": 52,
      "id": "4f722324",
      "metadata": {
        "colab": {
          "base_uri": "https://localhost:8080/"
        },
        "id": "4f722324",
        "outputId": "06dba559-d71a-49f6-a43a-f9b2c2fa9588"
      },
      "outputs": [
        {
          "name": "stdout",
          "output_type": "stream",
          "text": [
            "[13 17 13 13 13 17 11 15]\n"
          ]
        }
      ],
      "source": [
        "print(azar[mascara]) # Imprime los elementos de 'azar' que cumplen la condición de la máscara (ser mayores que 10)"
      ]
    }
  ],
  "metadata": {
    "colab": {
      "provenance": []
    },
    "kernelspec": {
      "display_name": "Python 3",
      "language": "python",
      "name": "python3"
    },
    "language_info": {
      "codemirror_mode": {
        "name": "ipython",
        "version": 3
      },
      "file_extension": ".py",
      "mimetype": "text/x-python",
      "name": "python",
      "nbconvert_exporter": "python",
      "pygments_lexer": "ipython3",
      "version": "3.13.5"
    }
  },
  "nbformat": 4,
  "nbformat_minor": 5
}

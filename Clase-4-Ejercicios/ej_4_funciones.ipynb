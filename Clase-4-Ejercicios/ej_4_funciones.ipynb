{
  "cells": [
    {
      "cell_type": "markdown",
      "metadata": {
        "id": "30Cg73F1z6dx"
      },
      "source": [
        "## Funciones"
      ]
    },
    {
      "cell_type": "markdown",
      "metadata": {
        "id": "NfRyVFKNz6dz"
      },
      "source": [
        "1) Crear una función que reciba un número como parámetro y devuelva True si es primo y False si no lo es"
      ]
    },
    {
      "cell_type": "code",
      "execution_count": 1,
      "metadata": {
        "id": "lLjlPeZ4z6d0",
        "outputId": "16f4f910-92a0-422b-cd9f-3af3eec3dd21"
      },
      "outputs": [
        {
          "name": "stdout",
          "output_type": "stream",
          "text": [
            "29 -> True\n"
          ]
        }
      ],
      "source": [
        "# Función que determina si un número es primo\n",
        "def es_primo(numeros):\n",
        "    if numeros < 2:               # Los números menores a 2 no son primos\n",
        "        return False\n",
        "    for i in range(2, int(numeros ** 0.5) + 1):  # Solo probamos hasta la raíz cuadrada\n",
        "        if numeros % i == 0:      # Si es divisible por i, no es primo\n",
        "            return False\n",
        "    return True\n",
        "\n",
        "# Ejemplos de uso\n",
        "numeros = [29]\n",
        "\n",
        "# Mostrar resultados\n",
        "for n in numeros:\n",
        "    print(f\"{n} -> {es_primo(n)}\")"
      ]
    },
    {
      "cell_type": "code",
      "execution_count": 2,
      "metadata": {
        "id": "2H0fWowmz6d3"
      },
      "outputs": [],
      "source": [
        "numero=29"
      ]
    },
    {
      "cell_type": "markdown",
      "metadata": {
        "id": "xn7ennHvz6d4"
      },
      "source": [
        "2) Utilizando la función del punto 1, realizar otra función que reciba de parámetro una lista de números y devuelva sólo aquellos que son primos en otra lista"
      ]
    },
    {
      "cell_type": "code",
      "execution_count": 3,
      "metadata": {
        "id": "e546f3aa"
      },
      "outputs": [
        {
          "name": "stdout",
          "output_type": "stream",
          "text": [
            "Lista original: [2, 3, 4, 5, 6, 7, 8, 9, 10, 29]\n",
            "Números primos: [2, 3, 5, 7, 29]\n"
          ]
        }
      ],
      "source": [
        "# 2. Función que filtra números primos de una lista\n",
        "def filtrar_primos(lista_numeros):\n",
        "    # Utiliza la función es_primo para filtrar la lista\n",
        "    return [numero for numero in lista_numeros if es_primo(numero)]\n",
        "\n",
        "# Ejemplo de uso\n",
        "lista_numeros = [2, 3, 4, 5, 6, 7, 8, 9, 10, 29]\n",
        "primos = filtrar_primos(lista_numeros)\n",
        "print(f\"Lista original: {lista_numeros}\")\n",
        "print(f\"Números primos: {primos}\")"
      ]
    },
    {
      "cell_type": "markdown",
      "metadata": {
        "id": "t5brIwqfz6d5"
      },
      "source": [
        "3) Crear una función que al recibir una lista de números, devuelva el que más se repite y cuántas veces lo hace. Si hay más de un \"más repetido\", que devuelva cualquiera"
      ]
    },
    {
      "cell_type": "code",
      "execution_count": 4,
      "metadata": {
        "id": "4d128a09"
      },
      "outputs": [
        {
          "name": "stdout",
          "output_type": "stream",
          "text": [
            "Lista original: [1, 2, 2, 3, 3, 3, 4, 4, 4, 4, 5]\n",
            "Número más repetido: 4, Frecuencia: 4\n"
          ]
        }
      ],
      "source": [
        "# 3. Función que encuentra el número más repetido en una lista\n",
        "from collections import Counter\n",
        "\n",
        "def numero_mas_repetido(lista_numeros):\n",
        "    # Cuenta la frecuencia de cada número en la lista\n",
        "    conteo = Counter(lista_numeros)\n",
        "    # Encuentra el número con la frecuencia más alta\n",
        "    numero, frecuencia = conteo.most_common(1)[0]\n",
        "    return numero, frecuencia\n",
        "\n",
        "# Ejemplo de uso\n",
        "lista_numeros = [1, 2, 2, 3, 3, 3, 4, 4, 4, 4, 5]\n",
        "numero, frecuencia = numero_mas_repetido(lista_numeros)\n",
        "print(f\"Lista original: {lista_numeros}\")\n",
        "print(f\"Número más repetido: {numero}, Frecuencia: {frecuencia}\")"
      ]
    },
    {
      "cell_type": "markdown",
      "metadata": {
        "id": "S2dBjIlxz6d6"
      },
      "source": [
        "4) A la función del punto 3, agregar un parámetro más, que permita elegir si se requiere el menor o el mayor de los mas repetidos."
      ]
    },
    {
      "cell_type": "code",
      "execution_count": 5,
      "metadata": {
        "id": "54b898c6"
      },
      "outputs": [
        {
          "name": "stdout",
          "output_type": "stream",
          "text": [
            "Lista original: [1, 2, 2, 3, 3, 3, 4, 4, 4, 4, 5, 5, 5, 5]\n",
            "Número más repetido (mayor): 5, Frecuencia: 4\n",
            "Número más repetido (menor): 4, Frecuencia: 4\n"
          ]
        }
      ],
      "source": [
        "# 4. Función que encuentra el número más repetido, con opción de menor o mayor\n",
        "from collections import Counter\n",
        "\n",
        "def numero_mas_repetido_con_opcion(lista_numeros, opcion=\"mayor\"):\n",
        "    # Cuenta la frecuencia de cada número en la lista\n",
        "    conteo = Counter(lista_numeros)\n",
        "    # Obtiene una lista de los números con la frecuencia más alta\n",
        "    max_frecuencia = conteo.most_common(1)[0][1]\n",
        "    mas_repetidos = [num for num, freq in conteo.items() if freq == max_frecuencia]\n",
        "\n",
        "    # Devuelve el menor o el mayor según la opción\n",
        "    if opcion == \"menor\":\n",
        "        return min(mas_repetidos), max_frecuencia\n",
        "    elif opcion == \"mayor\":\n",
        "        return max(mas_repetidos), max_frecuencia\n",
        "    else:\n",
        "        return None, None # Opción inválida\n",
        "\n",
        "# Ejemplo de uso\n",
        "lista_numeros = [1, 2, 2, 3, 3, 3, 4, 4, 4, 4, 5, 5, 5, 5]\n",
        "numero_mayor, frecuencia_mayor = numero_mas_repetido_con_opcion(lista_numeros, opcion=\"mayor\")\n",
        "numero_menor, frecuencia_menor = numero_mas_repetido_con_opcion(lista_numeros, opcion=\"menor\")\n",
        "\n",
        "print(f\"Lista original: {lista_numeros}\")\n",
        "print(f\"Número más repetido (mayor): {numero_mayor}, Frecuencia: {frecuencia_mayor}\")\n",
        "print(f\"Número más repetido (menor): {numero_menor}, Frecuencia: {frecuencia_menor}\")"
      ]
    },
    {
      "cell_type": "markdown",
      "metadata": {
        "id": "KNbtRNsFz6d6"
      },
      "source": [
        "5) Crear una función que convierta entre grados Celsius, Farenheit y Kelvin<br>\n",
        "Fórmula 1\t: (°C × 9/5) + 32 = °F<br>\n",
        "Fórmula 2\t: °C + 273.15 = °K<br>\n",
        "Debe recibir 3 parámetros: el valor, la medida de orígen y la medida de destino\n"
      ]
    },
    {
      "cell_type": "code",
      "execution_count": 6,
      "metadata": {
        "id": "0a34bbc2"
      },
      "outputs": [
        {
          "name": "stdout",
          "output_type": "stream",
          "text": [
            "25°C es igual a 77.0°F\n"
          ]
        }
      ],
      "source": [
        "# 5. Función para convertir entre grados Celsius, Farenheit y Kelvin\n",
        "def convertir_temperatura(valor, origen, destino):\n",
        "    # Convierte a Celsius primero\n",
        "    if origen == 'C':\n",
        "        celsius = valor\n",
        "    elif origen == 'F':\n",
        "        celsius = (valor - 32) * 5/9\n",
        "    elif origen == 'K':\n",
        "        celsius = valor - 273.15\n",
        "    else:\n",
        "        return None # Unidad de origen inválida\n",
        "\n",
        "    # Convierte de Celsius al destino\n",
        "    if destino == 'C':\n",
        "        return celsius\n",
        "    elif destino == 'F':\n",
        "        return (celsius * 9/5) + 32\n",
        "    elif destino == 'K':\n",
        "        return celsius + 273.15\n",
        "    else:\n",
        "        return None # Unidad de destino inválida\n",
        "\n",
        "# Ejemplo de uso\n",
        "valor = 25\n",
        "origen = 'C'\n",
        "destino = 'F'\n",
        "resultado = convertir_temperatura(valor, origen, destino)\n",
        "print(f\"{valor}°{origen} es igual a {resultado}°{destino}\")"
      ]
    },
    {
      "cell_type": "markdown",
      "metadata": {
        "id": "hV73fm1Tz6d7"
      },
      "source": [
        "6) Iterando una lista con los tres valores posibles de temperatura que recibe la función del punto 5, hacer un print para cada combinación de los mismos:"
      ]
    },
    {
      "cell_type": "code",
      "execution_count": 7,
      "metadata": {
        "id": "1f89fc25"
      },
      "outputs": [
        {
          "name": "stdout",
          "output_type": "stream",
          "text": [
            "0°C es igual a 32.00°F\n",
            "0°C es igual a 273.15°K\n",
            "0°F es igual a -17.78°C\n",
            "0°F es igual a 255.37°K\n",
            "0°K es igual a -273.15°C\n",
            "0°K es igual a -459.67°F\n",
            "32°C es igual a 89.60°F\n",
            "32°C es igual a 305.15°K\n",
            "32°F es igual a 0.00°C\n",
            "32°F es igual a 273.15°K\n",
            "32°K es igual a -241.15°C\n",
            "32°K es igual a -402.07°F\n",
            "273.15°C es igual a 523.67°F\n",
            "273.15°C es igual a 546.30°K\n",
            "273.15°F es igual a 133.97°C\n",
            "273.15°F es igual a 407.12°K\n",
            "273.15°K es igual a 0.00°C\n",
            "273.15°K es igual a 32.00°F\n"
          ]
        }
      ],
      "source": [
        "# 6. Iterar y mostrar conversiones de temperatura\n",
        "valores_temperatura = [0, 32, 273.15]\n",
        "unidades = ['C', 'F', 'K']\n",
        "\n",
        "# Itera sobre todas las combinaciones de origen y destino\n",
        "for valor in valores_temperatura:\n",
        "    for origen in unidades:\n",
        "        for destino in unidades:\n",
        "            # Evita convertir a la misma unidad\n",
        "            if origen != destino:\n",
        "                resultado = convertir_temperatura(valor, origen, destino)\n",
        "                if resultado is not None:\n",
        "                    print(f\"{valor}°{origen} es igual a {resultado:.2f}°{destino}\")"
      ]
    },
    {
      "cell_type": "markdown",
      "metadata": {
        "id": "D7lnesh7z6d8"
      },
      "source": [
        "7) Armar una función que devuelva el factorial de un número. Tener en cuenta que el usuario puede equivocarse y enviar de parámetro un número no entero o negativo"
      ]
    },
    {
      "cell_type": "code",
      "execution_count": 8,
      "metadata": {
        "id": "64b60c42"
      },
      "outputs": [
        {
          "name": "stdout",
          "output_type": "stream",
          "text": [
            "Factorial de 5: 120\n",
            "Factorial de 0: 1\n",
            "Factorial de -5: Error: El número debe ser un entero no negativo.\n",
            "Factorial de 2.5: Error: El número debe ser un entero no negativo.\n"
          ]
        }
      ],
      "source": [
        "# 7. Función para calcular el factorial de un número\n",
        "def factorial(numero):\n",
        "    # Verifica si el número es un entero no negativo\n",
        "    if not isinstance(numero, int) or numero < 0:\n",
        "        return \"Error: El número debe ser un entero no negativo.\"\n",
        "    elif numero == 0:\n",
        "        return 1 # El factorial de 0 es 1\n",
        "    else:\n",
        "        # Calcula el factorial usando un bucle\n",
        "        resultado = 1\n",
        "        for i in range(1, numero + 1):\n",
        "            resultado *= i\n",
        "        return resultado\n",
        "\n",
        "# Ejemplos de uso\n",
        "print(f\"Factorial de 5: {factorial(5)}\")\n",
        "print(f\"Factorial de 0: {factorial(0)}\")\n",
        "print(f\"Factorial de -5: {factorial(-5)}\")\n",
        "print(f\"Factorial de 2.5: {factorial(2.5)}\")"
      ]
    }
  ],
  "metadata": {
    "colab": {
      "provenance": []
    },
    "kernelspec": {
      "display_name": "Python 3",
      "language": "python",
      "name": "python3"
    },
    "language_info": {
      "codemirror_mode": {
        "name": "ipython",
        "version": 3
      },
      "file_extension": ".py",
      "mimetype": "text/x-python",
      "name": "python",
      "nbconvert_exporter": "python",
      "pygments_lexer": "ipython3",
      "version": "3.13.5"
    },
    "vscode": {
      "interpreter": {
        "hash": "de8281a228bb66c2c60efdc2ecffdbec8f9385262e02c22a6ff74a2158df972d"
      }
    }
  },
  "nbformat": 4,
  "nbformat_minor": 0
}

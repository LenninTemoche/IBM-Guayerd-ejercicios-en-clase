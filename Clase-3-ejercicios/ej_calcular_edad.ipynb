{
 "cells": [
  {
   "cell_type": "markdown",
   "id": "e5dc880f",
   "metadata": {},
   "source": [
    "## Ejercicio 1: Programa interactivo de cálculo de edad\n",
    "\n",
    "Este programa solicita el nombre y año de nacimiento del usuario, calcula su edad y determina si es mayor de edad."
   ]
  },
  {
   "cell_type": "markdown",
   "id": "d6081ef7",
   "metadata": {},
   "source": [
    "### Paso 1: Pedir el nombre del usuario"
   ]
  },
  {
   "cell_type": "code",
   "execution_count": 14,
   "id": "da5f63f5",
   "metadata": {},
   "outputs": [
    {
     "name": "stdout",
     "output_type": "stream",
     "text": [
      "Hola, Lennin -.-\n"
     ]
    }
   ],
   "source": [
    "# La función input() permite que el usuario escriba un valor en la terminal.\n",
    "\n",
    "nombre = input(\"Por favor, escribe tu nombre: \")\n",
    "print(\"Hola,\", nombre, \"-.-\")"
   ]
  },
  {
   "cell_type": "markdown",
   "id": "7959f1b5",
   "metadata": {},
   "source": [
    "### Paso 2: Pedir el año de nacimiento"
   ]
  },
  {
   "cell_type": "code",
   "execution_count": null,
   "id": "76466f06",
   "metadata": {},
   "outputs": [
    {
     "name": "stdout",
     "output_type": "stream",
     "text": [
      "Año registrado: 1984\n"
     ]
    }
   ],
   "source": [
    "\n",
    "# Convertimos la entrada en número entero con int(),\n",
    "# ya que el input() devuelve texto (string).\n",
    "\n",
    "anio_nacimiento = int(input(\"¿En qué año naciste?: \"))\n",
    "print(\"Año de nacimiento:\", anio_nacimiento)"
   ]
  },
  {
   "cell_type": "markdown",
   "id": "92dc9245",
   "metadata": {},
   "source": [
    "### Paso 3: Calcular la edad actual"
   ]
  },
  {
   "cell_type": "code",
   "execution_count": 11,
   "id": "a0cbe3e5",
   "metadata": {},
   "outputs": [
    {
     "name": "stdout",
     "output_type": "stream",
     "text": [
      "Edad calculada: 41 años\n"
     ]
    }
   ],
   "source": [
    "# Para ello usamos el año actual. Como ejemplo, lo obtenemos dinámicamente con datetime.\n",
    "\n",
    "import datetime\n",
    "anio_actual = datetime.datetime.now().year   # obtenemos el año actual\n",
    "edad = anio_actual - anio_nacimiento\n",
    "print(\"Edad calculada:\", edad, \"años\")"
   ]
  },
  {
   "cell_type": "markdown",
   "id": "9e3fdece",
   "metadata": {},
   "source": [
    "### Paso 4: Verificar si la persona es mayor de edad"
   ]
  },
  {
   "cell_type": "code",
   "execution_count": null,
   "id": "3cae86dc",
   "metadata": {},
   "outputs": [
    {
     "name": "stdout",
     "output_type": "stream",
     "text": [
      "Eres mayor de edad ✅\n"
     ]
    }
   ],
   "source": [
    "# Usamos una simple condición if para evaluarlo.\n",
    "\n",
    "if edad >= 18:\n",
    "    print(\"Eres mayor de edad\")\n",
    "else:\n",
    "    print(\"Eres menor de edad 🚸\")"
   ]
  },
  {
   "cell_type": "markdown",
   "id": "77692d6d",
   "metadata": {},
   "source": [
    "### Paso 5: Mensaje final personalizado"
   ]
  },
  {
   "cell_type": "code",
   "execution_count": 13,
   "id": "aa5f0cc5",
   "metadata": {},
   "outputs": [
    {
     "name": "stdout",
     "output_type": "stream",
     "text": [
      "Hola Lennin, tienes 41 años. ¡Gracias por participar!\n"
     ]
    }
   ],
   "source": [
    "# Mostramos nombre + edad en una frase amigable.\n",
    "\n",
    "print(f\"Hola {nombre}, tienes {edad} años. ¡Gracias por participar!\")"
   ]
  }
 ],
 "metadata": {
  "kernelspec": {
   "display_name": "Python 3",
   "language": "python",
   "name": "python3"
  },
  "language_info": {
   "codemirror_mode": {
    "name": "ipython",
    "version": 3
   },
   "file_extension": ".py",
   "mimetype": "text/x-python",
   "name": "python",
   "nbconvert_exporter": "python",
   "pygments_lexer": "ipython3",
   "version": "3.13.5"
  }
 },
 "nbformat": 4,
 "nbformat_minor": 5
}

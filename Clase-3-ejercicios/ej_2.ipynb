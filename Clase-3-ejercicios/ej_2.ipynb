{
  "cells": [
    {
      "cell_type": "markdown",
      "metadata": {
        "id": "iunZIVONj-tw"
      },
      "source": [
        "## Estructuras de Datos"
      ]
    },
    {
      "cell_type": "code",
      "execution_count": 1,
      "metadata": {
        "colab": {
          "base_uri": "https://localhost:8080/"
        },
        "id": "304308f4",
        "outputId": "b51cf9e5-d409-43ca-9a02-941691dac77f"
      },
      "outputs": [
        {
          "name": "stdout",
          "output_type": "stream",
          "text": [
            "['Buenos Aires', 'Madrid', 'París', 'Tokio', 'Nueva York', 'Londres']\n"
          ]
        }
      ],
      "source": [
        "# 1. Crear una lista que contenga nombres de ciudades del mundo que contenga más de 5 elementos e imprimir por pantalla\n",
        "ciudades = [\"Buenos Aires\", \"Madrid\", \"París\", \"Tokio\", \"Nueva York\", \"Londres\"]\n",
        "print(ciudades)"
      ]
    },
    {
      "cell_type": "code",
      "execution_count": 2,
      "metadata": {
        "colab": {
          "base_uri": "https://localhost:8080/"
        },
        "id": "dad8c358",
        "outputId": "b9a48958-726e-48b9-90c5-e0415bc8386f"
      },
      "outputs": [
        {
          "name": "stdout",
          "output_type": "stream",
          "text": [
            "Madrid\n"
          ]
        }
      ],
      "source": [
        "# 2. Imprimir por pantalla el segundo elemento de la lista\n",
        "print(ciudades[1])"
      ]
    },
    {
      "cell_type": "code",
      "execution_count": 3,
      "metadata": {
        "colab": {
          "base_uri": "https://localhost:8080/"
        },
        "id": "2e1b75c5",
        "outputId": "1ab9bcba-6d6a-47fa-8b25-f40cfd89af2d"
      },
      "outputs": [
        {
          "name": "stdout",
          "output_type": "stream",
          "text": [
            "['Madrid', 'París', 'Tokio']\n"
          ]
        }
      ],
      "source": [
        "# 3. Imprimir por pantalla del segundo al cuarto elemento\n",
        "print(ciudades[1:4])"
      ]
    },
    {
      "cell_type": "code",
      "execution_count": 4,
      "metadata": {
        "colab": {
          "base_uri": "https://localhost:8080/"
        },
        "id": "863fad18",
        "outputId": "bfc40668-788c-4f07-a268-82d103f4086a"
      },
      "outputs": [
        {
          "name": "stdout",
          "output_type": "stream",
          "text": [
            "<class 'list'>\n"
          ]
        }
      ],
      "source": [
        "# 4. Visualizar el tipo de dato de la lista\n",
        "print(type(ciudades))"
      ]
    },
    {
      "cell_type": "code",
      "execution_count": 5,
      "metadata": {
        "colab": {
          "base_uri": "https://localhost:8080/"
        },
        "id": "bcda21ea",
        "outputId": "f5e534c7-b2e6-44c1-dbf3-26eb3eec2d37"
      },
      "outputs": [
        {
          "name": "stdout",
          "output_type": "stream",
          "text": [
            "['París', 'Tokio', 'Nueva York', 'Londres']\n"
          ]
        }
      ],
      "source": [
        "# 5. Visualizar todos los elementos de la lista a partir del tercero de manera genérica, es decir, sin explicitar la posición del último elemento\n",
        "print(ciudades[2:])"
      ]
    },
    {
      "cell_type": "code",
      "execution_count": 6,
      "metadata": {
        "id": "0b0625d5"
      },
      "outputs": [
        {
          "name": "stdout",
          "output_type": "stream",
          "text": [
            "['Buenos Aires', 'Madrid', 'París', 'Tokio']\n"
          ]
        }
      ],
      "source": [
        "# 6. Visualizar los primeros 4 elementos de la lista\n",
        "print(ciudades[:4])"
      ]
    },
    {
      "cell_type": "code",
      "execution_count": 7,
      "metadata": {
        "id": "e481a816"
      },
      "outputs": [
        {
          "name": "stdout",
          "output_type": "stream",
          "text": [
            "['Buenos Aires', 'Madrid', 'París', 'Tokio', 'Nueva York', 'Londres', 'Madrid', 'Roma']\n"
          ]
        }
      ],
      "source": [
        "# 7. Agregar una ciudad más a la lista que ya exista y otra que no ¿Arroja algún tipo de error?\n",
        "ciudades.append(\"Madrid\") # Agrega una ciudad que ya existe\n",
        "ciudades.append(\"Roma\")   # Agrega una ciudad que no existe\n",
        "print(ciudades)\n",
        "# No arroja error al agregar elementos duplicados a una lista."
      ]
    },
    {
      "cell_type": "code",
      "execution_count": 8,
      "metadata": {
        "id": "d7912b23"
      },
      "outputs": [
        {
          "name": "stdout",
          "output_type": "stream",
          "text": [
            "['Buenos Aires', 'Madrid', 'París', 'Sídney', 'Tokio', 'Nueva York', 'Londres', 'Madrid', 'Roma']\n"
          ]
        }
      ],
      "source": [
        "# 8. Agregar otra ciudad, pero en la cuarta posición\n",
        "ciudades.insert(3, \"Sídney\")\n",
        "print(ciudades)"
      ]
    },
    {
      "cell_type": "code",
      "execution_count": 9,
      "metadata": {
        "id": "735c47cc"
      },
      "outputs": [
        {
          "name": "stdout",
          "output_type": "stream",
          "text": [
            "['Buenos Aires', 'Madrid', 'París', 'Sídney', 'Tokio', 'Nueva York', 'Londres', 'Madrid', 'Roma', 'Berlín', 'Toronto']\n"
          ]
        }
      ],
      "source": [
        "# 9. Concatenar otra lista a la ya creada\n",
        "otras_ciudades = [\"Berlín\", \"Toronto\"]\n",
        "ciudades.extend(otras_ciudades)\n",
        "print(ciudades)"
      ]
    },
    {
      "cell_type": "code",
      "execution_count": 10,
      "metadata": {
        "id": "b246bb17"
      },
      "outputs": [
        {
          "name": "stdout",
          "output_type": "stream",
          "text": [
            "El índice de la primera aparición de 'Madrid' es: 1\n"
          ]
        }
      ],
      "source": [
        "# 10. Encontrar el índice de la ciudad que en el punto 7 agregamos duplicada. ¿Se nota alguna particularidad?\n",
        "indice_madrid = ciudades.index(\"Madrid\")\n",
        "print(f\"El índice de la primera aparición de 'Madrid' es: {indice_madrid}\")\n",
        "# La particularidad es que .index() solo devuelve el índice de la primera aparición del elemento."
      ]
    },
    {
      "cell_type": "code",
      "execution_count": 11,
      "metadata": {
        "id": "8d570f2f"
      },
      "outputs": [
        {
          "name": "stdout",
          "output_type": "stream",
          "text": [
            "Ocurrió un error: 'Bogotá' is not in list\n"
          ]
        }
      ],
      "source": [
        "# 11. ¿Qué pasa si se busca un elemento que no existe?\n",
        "try:\n",
        "    ciudades.index(\"Bogotá\")\n",
        "except ValueError as e:\n",
        "    print(f\"Ocurrió un error: {e}\")\n",
        "# Si se busca un elemento que no existe, se produce un error de tipo ValueError."
      ]
    },
    {
      "cell_type": "code",
      "execution_count": 12,
      "metadata": {
        "id": "50f3765f"
      },
      "outputs": [
        {
          "name": "stdout",
          "output_type": "stream",
          "text": [
            "['Buenos Aires', 'Madrid', 'París', 'Sídney', 'Tokio', 'Nueva York', 'Madrid', 'Roma', 'Berlín', 'Toronto']\n"
          ]
        }
      ],
      "source": [
        "# 12. Eliminar un elemento de la lista\n",
        "ciudades.remove(\"Londres\")\n",
        "print(ciudades)"
      ]
    },
    {
      "cell_type": "code",
      "execution_count": 13,
      "metadata": {
        "id": "25676c7e"
      },
      "outputs": [
        {
          "name": "stdout",
          "output_type": "stream",
          "text": [
            "Ocurrió un error: list.remove(x): x not in list\n"
          ]
        }
      ],
      "source": [
        "# 13. ¿Qué pasa si el elemento a eliminar no existe?\n",
        "try:\n",
        "    ciudades.remove(\"Miami\")\n",
        "except ValueError as e:\n",
        "    print(f\"Ocurrió un error: {e}\")\n",
        "# Si el elemento a eliminar no existe, se produce un error de tipo ValueError."
      ]
    },
    {
      "cell_type": "code",
      "execution_count": 14,
      "metadata": {
        "id": "702e297c"
      },
      "outputs": [
        {
          "name": "stdout",
          "output_type": "stream",
          "text": [
            "El último elemento extraído es: Toronto\n",
            "La lista después de extraer el último elemento es: ['Buenos Aires', 'Madrid', 'París', 'Sídney', 'Tokio', 'Nueva York', 'Madrid', 'Roma', 'Berlín']\n"
          ]
        }
      ],
      "source": [
        "# 14. Extraer el úlimo elemento de la lista, guardarlo en una variable e imprimirlo\n",
        "ultima_ciudad = ciudades.pop()\n",
        "print(f\"El último elemento extraído es: {ultima_ciudad}\")\n",
        "print(f\"La lista después de extraer el último elemento es: {ciudades}\")"
      ]
    },
    {
      "cell_type": "code",
      "execution_count": 15,
      "metadata": {
        "id": "a29afc93"
      },
      "outputs": [
        {
          "name": "stdout",
          "output_type": "stream",
          "text": [
            "['Buenos Aires', 'Madrid', 'París', 'Sídney', 'Tokio', 'Nueva York', 'Madrid', 'Roma', 'Berlín', 'Buenos Aires', 'Madrid', 'París', 'Sídney', 'Tokio', 'Nueva York', 'Madrid', 'Roma', 'Berlín', 'Buenos Aires', 'Madrid', 'París', 'Sídney', 'Tokio', 'Nueva York', 'Madrid', 'Roma', 'Berlín', 'Buenos Aires', 'Madrid', 'París', 'Sídney', 'Tokio', 'Nueva York', 'Madrid', 'Roma', 'Berlín']\n"
          ]
        }
      ],
      "source": [
        "# 15. Mostrar la lista multiplicada por 4\n",
        "print(ciudades * 4)"
      ]
    },
    {
      "cell_type": "code",
      "execution_count": 16,
      "metadata": {
        "id": "be19d98a"
      },
      "outputs": [
        {
          "name": "stdout",
          "output_type": "stream",
          "text": [
            "(1, 2, 3, 4, 5, 6, 7, 8, 9, 10, 11, 12, 13, 14, 15, 16, 17, 18, 19, 20)\n"
          ]
        }
      ],
      "source": [
        "# 16. Crear una tupla que contenga los números enteros del 1 al 20\n",
        "numeros = tuple(range(1, 21))\n",
        "print(numeros)"
      ]
    },
    {
      "cell_type": "code",
      "execution_count": 17,
      "metadata": {
        "id": "cba0513a"
      },
      "outputs": [
        {
          "name": "stdout",
          "output_type": "stream",
          "text": [
            "(11, 12, 13, 14, 15, 16)\n"
          ]
        }
      ],
      "source": [
        "# 17. Imprimir desde el índice 10 al 15 de la tupla\n",
        "print(numeros[10:16])"
      ]
    },
    {
      "cell_type": "code",
      "execution_count": 18,
      "metadata": {
        "id": "130671e1"
      },
      "outputs": [
        {
          "name": "stdout",
          "output_type": "stream",
          "text": [
            "¿El número 20 está en la tupla? True\n",
            "¿El número 30 está en la tupla? False\n"
          ]
        }
      ],
      "source": [
        "# 18. Evaluar si los números 20 y 30 están dentro de la tupla\n",
        "print(f\"¿El número 20 está en la tupla? {20 in numeros}\")\n",
        "print(f\"¿El número 30 está en la tupla? {30 in numeros}\")"
      ]
    },
    {
      "cell_type": "code",
      "execution_count": 19,
      "metadata": {
        "id": "acd73fc1"
      },
      "outputs": [
        {
          "name": "stdout",
          "output_type": "stream",
          "text": [
            "La ciudad 'París' ya existía en la lista.\n",
            "['Buenos Aires', 'Madrid', 'París', 'Sídney', 'Tokio', 'Nueva York', 'Madrid', 'Roma', 'Berlín']\n"
          ]
        }
      ],
      "source": [
        "# 19. Con la lista creada en el punto 1, validar la existencia del elemento 'París' y si no existe, agregarlo. Utilizar una variable e informar lo sucedido.\n",
        "informe = \"\"\n",
        "if 'París' not in ciudades:\n",
        "    ciudades.append('París')\n",
        "    informe = \"La ciudad 'París' no existía y ha sido agregada.\"\n",
        "else:\n",
        "    informe = \"La ciudad 'París' ya existía en la lista.\"\n",
        "\n",
        "print(informe)\n",
        "print(ciudades)"
      ]
    },
    {
      "cell_type": "code",
      "execution_count": 21,
      "metadata": {
        "id": "39c81b2f"
      },
      "outputs": [
        {
          "name": "stdout",
          "output_type": "stream",
          "text": [
            "'Madrid' aparece 2 veces en la lista.\n",
            "15 aparece 1 veces en la tupla.\n"
          ]
        }
      ],
      "source": [
        "# 20. Mostrar la cantidad de veces que se encuentra un elemento específico dentro de la tupla y de la lista\n",
        "elemento_buscar_lista = \"Madrid\"\n",
        "elemento_buscar_tupla = 15\n",
        "\n",
        "cantidad_lista = ciudades.count(elemento_buscar_lista)\n",
        "cantidad_tupla = numeros.count(elemento_buscar_tupla)\n",
        "\n",
        "print(f\"'{elemento_buscar_lista}' aparece {cantidad_lista} veces en la lista.\")\n",
        "print(f\"{elemento_buscar_tupla} aparece {cantidad_tupla} veces en la tupla.\")"
      ]
    },
    {
      "cell_type": "code",
      "execution_count": 22,
      "metadata": {
        "id": "3fe5fc75"
      },
      "outputs": [
        {
          "name": "stdout",
          "output_type": "stream",
          "text": [
            "[1, 2, 3, 4, 5, 6, 7, 8, 9, 10, 11, 12, 13, 14, 15, 16, 17, 18, 19, 20]\n",
            "<class 'list'>\n"
          ]
        }
      ],
      "source": [
        "# 21. Convertir la tupla en una lista\n",
        "lista_desde_tupla = list(numeros)\n",
        "print(lista_desde_tupla)\n",
        "print(type(lista_desde_tupla))"
      ]
    },
    {
      "cell_type": "code",
      "execution_count": 23,
      "metadata": {
        "id": "e11499ac"
      },
      "outputs": [
        {
          "name": "stdout",
          "output_type": "stream",
          "text": [
            "Primer elemento: 1\n",
            "Segundo elemento: 2\n",
            "Tercer elemento: 3\n"
          ]
        }
      ],
      "source": [
        "# 22. Desempaquetar solo los primeros 3 elementos de la tupla en 3 variables\n",
        "a, b, c, *resto = numeros\n",
        "print(f\"Primer elemento: {a}\")\n",
        "print(f\"Segundo elemento: {b}\")\n",
        "print(f\"Tercer elemento: {c}\")"
      ]
    },
    {
      "cell_type": "code",
      "execution_count": 25,
      "metadata": {
        "id": "6bf9ded9"
      },
      "outputs": [
        {
          "name": "stdout",
          "output_type": "stream",
          "text": [
            "{'Buenos Aires': {'Pais': 'Argentina', 'Continente': 'América'}, 'Madrid': {'Pais': 'España', 'Continente': 'Europa'}, 'París': {'Pais': 'Francia', 'Continente': 'Europa'}, 'Tokio': {'Pais': 'Japón', 'Continente': 'Asia'}, 'Nueva York': {'Pais': 'USA', 'Continente': 'América'}, 'Roma': {'Pais': 'Italia', 'Continente': 'Europa'}, 'Sídney': {'Pais': 'Australia', 'Continente': 'Oceanía'}, 'Berlín': {'Pais': 'Alemania', 'Continente': 'Europa'}, 'Toronto': {'Pais': 'Canadá', 'Continente': 'América'}}\n"
          ]
        }
      ],
      "source": [
        "# 23. Crear un diccionario utilizando la lista crada en el punto 1, asignandole la clave \"ciudad\". Agregar tambien otras claves, como puede ser \"Pais\" y \"Continente\".\n",
        "# Este punto asume que se quiere crear un diccionario donde cada elemento de la lista de ciudades es parte de un valor asociado a la clave \"ciudad\".\n",
        "# Aquí crearemos un diccionario con una clave 'ciudades' que contenga la lista, y claves adicionales para país y continente de forma genérica o como listas separadas si aplica.\n",
        "# Optaremos por un diccionario donde cada ciudad es una clave y su valor es otro diccionario con País y Continente, aunque la lista original solo tiene ciudades.\n",
        "# Para simplificar, usaremos un ejemplo con datos inventados para algunas ciudades.\n",
        "diccionario_ciudades = {\n",
        "    \"Buenos Aires\": {\"Pais\": \"Argentina\", \"Continente\": \"América\"},\n",
        "    \"Madrid\": {\"Pais\": \"España\", \"Continente\": \"Europa\"},\n",
        "    \"París\": {\"Pais\": \"Francia\", \"Continente\": \"Europa\"},\n",
        "    \"Tokio\": {\"Pais\": \"Japón\", \"Continente\": \"Asia\"},\n",
        "    \"Nueva York\": {\"Pais\": \"USA\", \"Continente\": \"América\"},\n",
        "    \"Roma\": {\"Pais\": \"Italia\", \"Continente\": \"Europa\"},\n",
        "    \"Sídney\": {\"Pais\": \"Australia\", \"Continente\": \"Oceanía\"},\n",
        "    \"Berlín\": {\"Pais\": \"Alemania\", \"Continente\": \"Europa\"},\n",
        "    \"Toronto\": {\"Pais\": \"Canadá\", \"Continente\": \"América\"}\n",
        "}\n",
        "print(diccionario_ciudades)"
      ]
    },
    {
      "cell_type": "code",
      "execution_count": 26,
      "metadata": {
        "id": "e23f59be"
      },
      "outputs": [
        {
          "name": "stdout",
          "output_type": "stream",
          "text": [
            "dict_keys(['Buenos Aires', 'Madrid', 'París', 'Tokio', 'Nueva York', 'Roma', 'Sídney', 'Berlín', 'Toronto'])\n"
          ]
        }
      ],
      "source": [
        "# 24. Imprimir las claves del diccionario\n",
        "print(diccionario_ciudades.keys())"
      ]
    },
    {
      "cell_type": "code",
      "execution_count": 27,
      "metadata": {
        "id": "fba523b2"
      },
      "outputs": [
        {
          "name": "stdout",
          "output_type": "stream",
          "text": [
            "dict_keys(['Buenos Aires', 'Madrid', 'París', 'Tokio', 'Nueva York', 'Roma', 'Sídney', 'Berlín', 'Toronto'])\n"
          ]
        }
      ],
      "source": [
        "# 25. Imprimir las ciudades a través de su clave\n",
        "# Asumiendo que \"ciudades\" se refiere a las claves del diccionario que son los nombres de las ciudades\n",
        "print(diccionario_ciudades.keys())\n",
        "\n",
        "# Si la intención era imprimir los valores asociados a la clave \"ciudad\" en un diccionario diferente (como se planteó en el punto 23),\n",
        "# y si tuviéramos un diccionario con la estructura {\"ciudad\": [lista_de_ciudades], ...}, el código sería:\n",
        "# print(mi_otro_diccionario[\"ciudad\"])"
      ]
    }
  ],
  "metadata": {
    "colab": {
      "provenance": []
    },
    "kernelspec": {
      "display_name": "Python 3",
      "language": "python",
      "name": "python3"
    },
    "language_info": {
      "codemirror_mode": {
        "name": "ipython",
        "version": 3
      },
      "file_extension": ".py",
      "mimetype": "text/x-python",
      "name": "python",
      "nbconvert_exporter": "python",
      "pygments_lexer": "ipython3",
      "version": "3.13.5"
    },
    "vscode": {
      "interpreter": {
        "hash": "de8281a228bb66c2c60efdc2ecffdbec8f9385262e02c22a6ff74a2158df972d"
      }
    }
  },
  "nbformat": 4,
  "nbformat_minor": 0
}

{
 "cells": [
  {
   "cell_type": "markdown",
   "id": "c2891544",
   "metadata": {},
   "source": []
  },
  {
   "cell_type": "markdown",
   "id": "f510b351",
   "metadata": {},
   "source": [
    "### Paso 1: Pedir al usuario que ingrese nombre y precio de productos"
   ]
  },
  {
   "cell_type": "code",
   "execution_count": 1,
   "id": "9964b73d",
   "metadata": {},
   "outputs": [
    {
     "name": "stdout",
     "output_type": "stream",
     "text": [
      "Productos registrados correctamente\n"
     ]
    }
   ],
   "source": [
    "# Usamos una lista para almacenar diccionarios con la forma {\"nombre\": ..., \"precio\": ...}\n",
    "\n",
    "productos = []  # lista vacía donde iremos guardando los productos\n",
    "\n",
    "for i in range(3):  # pedimos 3 productos\n",
    "    nombre = input(f\"Ingrese el nombre del producto {i+1}: \")\n",
    "    precio = float(input(f\"Ingrese el precio de {nombre}: \"))\n",
    "    \n",
    "    producto = {\"nombre\": nombre, \"precio\": precio}\n",
    "    productos.append(producto)\n",
    "\n",
    "print(\"Productos registrados correctamente\")"
   ]
  },
  {
   "cell_type": "markdown",
   "id": "d0b31109",
   "metadata": {},
   "source": [
    "### Paso 2: Mostrar la lista de productos ingresados"
   ]
  },
  {
   "cell_type": "code",
   "execution_count": 3,
   "id": "bb3cee3b",
   "metadata": {},
   "outputs": [
    {
     "name": "stdout",
     "output_type": "stream",
     "text": [
      "Lista de productos ingresados:\n",
      "- Arroz ($ 2.50)\n",
      "- Azucar ($ 3.50)\n",
      "- Leche ($ 5.00)\n"
     ]
    }
   ],
   "source": [
    "\n",
    "# Recorremos la lista y mostramos cada producto formateado.\n",
    "\n",
    "print(\"Lista de productos ingresados:\")\n",
    "for p in productos:\n",
    "    print(f\"- {p['nombre']} ($ {p['precio']:.2f})\")"
   ]
  },
  {
   "cell_type": "markdown",
   "id": "4409c1a7",
   "metadata": {},
   "source": [
    "### Paso 3: Calcular el total de la compra"
   ]
  },
  {
   "cell_type": "code",
   "execution_count": 4,
   "id": "e672ba6d",
   "metadata": {},
   "outputs": [
    {
     "name": "stdout",
     "output_type": "stream",
     "text": [
      "Total a pagar: $ 11.00\n"
     ]
    }
   ],
   "source": [
    "# Usamos una sumatoria de los precios.\n",
    "\n",
    "total = sum(p[\"precio\"] for p in productos)\n",
    "print(f\"Total a pagar: $ {total:.2f}\")"
   ]
  },
  {
   "cell_type": "markdown",
   "id": "e86a6887",
   "metadata": {},
   "source": [
    "### Paso 4: Determinar el producto más caro"
   ]
  },
  {
   "cell_type": "code",
   "execution_count": 5,
   "id": "65e99d1a",
   "metadata": {},
   "outputs": [
    {
     "name": "stdout",
     "output_type": "stream",
     "text": [
      "El producto más caro es: Leche ($ 5.00)\n"
     ]
    }
   ],
   "source": [
    "\n",
    "# Usamos la función max() indicando que compare por el campo \"precio\".\n",
    "\n",
    "producto_mas_caro = max(productos, key=lambda p: p[\"precio\"])\n",
    "print(f\"El producto más caro es: {producto_mas_caro['nombre']} ($ {producto_mas_caro['precio']:.2f})\")"
   ]
  },
  {
   "cell_type": "markdown",
   "id": "121c934c",
   "metadata": {},
   "source": [
    "### Paso 5: Resumen Final"
   ]
  },
  {
   "cell_type": "code",
   "execution_count": 7,
   "id": "b06e14c5",
   "metadata": {},
   "outputs": [
    {
     "name": "stdout",
     "output_type": "stream",
     "text": [
      "📋 RESUMEN DE LA COMPRA\n",
      "------------------------------\n",
      "Arroz → $ 2.50\n",
      "Azucar → $ 3.50\n",
      "Leche → $ 5.00\n",
      "------------------------------\n",
      "TOTAL: $ 11.00\n",
      "Producto más caro: Leche ($ 5.00)\n"
     ]
    }
   ],
   "source": [
    "\n",
    "# Mostramos TODO junto en un mensaje amigable\n",
    "\n",
    "print(\"📋 RESUMEN DE LA COMPRA\")\n",
    "print(\"-\"*30)\n",
    "for p in productos:\n",
    "    print(f\"{p['nombre']} → $ {p['precio']:.2f}\")\n",
    "\n",
    "print(\"-\"*30)\n",
    "print(f\"TOTAL: $ {total:.2f}\")\n",
    "print(f\"Producto más caro: {producto_mas_caro['nombre']} ($ {producto_mas_caro['precio']:.2f})\")"
   ]
  }
 ],
 "metadata": {
  "kernelspec": {
   "display_name": "Python 3",
   "language": "python",
   "name": "python3"
  },
  "language_info": {
   "codemirror_mode": {
    "name": "ipython",
    "version": 3
   },
   "file_extension": ".py",
   "mimetype": "text/x-python",
   "name": "python",
   "nbconvert_exporter": "python",
   "pygments_lexer": "ipython3",
   "version": "3.13.5"
  }
 },
 "nbformat": 4,
 "nbformat_minor": 5
}

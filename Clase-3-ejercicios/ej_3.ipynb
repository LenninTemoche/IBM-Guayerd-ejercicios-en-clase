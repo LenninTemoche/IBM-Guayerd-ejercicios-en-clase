{
  "cells": [
    {
      "cell_type": "markdown",
      "metadata": {
        "id": "dApdxtxIGfNY"
      },
      "source": [
        "## Flujos de Control"
      ]
    },
    {
      "cell_type": "markdown",
      "metadata": {
        "id": "OeeKB0IqGfNg"
      },
      "source": [
        "1) Crear una variable que contenga un elemento del conjunto de números enteros y luego imprimir por pantalla si es mayor o menor a cero"
      ]
    },
    {
      "cell_type": "code",
      "execution_count": 1,
      "metadata": {
        "colab": {
          "base_uri": "https://localhost:8080/"
        },
        "id": "0lDM2kSxGfNh",
        "outputId": "89871a6c-365d-4beb-b6d8-19056b1d9e74"
      },
      "outputs": [
        {
          "name": "stdout",
          "output_type": "stream",
          "text": [
            "El número es mayor a cero\n"
          ]
        }
      ],
      "source": [
        "# Crear una variable con un número entero\n",
        "numero_entero = 10\n",
        "\n",
        "# Imprimir si es mayor o menor a cero\n",
        "if numero_entero > 0:\n",
        "  print(\"El número es mayor a cero\")\n",
        "elif numero_entero < 0:\n",
        "  print(\"El número es menor a cero\")\n",
        "else:\n",
        "  print(\"El número es cero\")"
      ]
    },
    {
      "cell_type": "markdown",
      "metadata": {
        "id": "yMWUtUAxGfNi"
      },
      "source": [
        "2) Crear dos variables y un condicional que informe si son del mismo tipo de dato"
      ]
    },
    {
      "cell_type": "code",
      "execution_count": 2,
      "metadata": {
        "colab": {
          "base_uri": "https://localhost:8080/"
        },
        "id": "qRDpv-M5GfNj",
        "outputId": "5c3da666-3609-42dd-e252-e9b32f85583d"
      },
      "outputs": [
        {
          "name": "stdout",
          "output_type": "stream",
          "text": [
            "Las variables no son del mismo tipo de dato\n"
          ]
        }
      ],
      "source": [
        "# Crear dos variables\n",
        "variable1 = 10\n",
        "variable2 = \"hola\"\n",
        "\n",
        "# Verificar si son del mismo tipo de dato\n",
        "if type(variable1) == type(variable2):\n",
        "  print(\"Las variables son del mismo tipo de dato\")\n",
        "else:\n",
        "  print(\"Las variables no son del mismo tipo de dato\")"
      ]
    },
    {
      "cell_type": "markdown",
      "metadata": {
        "id": "Ir2JZX9VGfNk"
      },
      "source": [
        "3) Para los valores enteros del 1 al 20, imprimir por pantalla si es par o impar"
      ]
    },
    {
      "cell_type": "code",
      "execution_count": 3,
      "metadata": {
        "colab": {
          "base_uri": "https://localhost:8080/"
        },
        "id": "aJAn--KNGfNk",
        "outputId": "878c3d74-b638-40a5-a8a8-ea6461205b8d"
      },
      "outputs": [
        {
          "name": "stdout",
          "output_type": "stream",
          "text": [
            "1 es impar\n",
            "2 es par\n",
            "3 es impar\n",
            "4 es par\n",
            "5 es impar\n",
            "6 es par\n",
            "7 es impar\n",
            "8 es par\n",
            "9 es impar\n",
            "10 es par\n",
            "11 es impar\n",
            "12 es par\n",
            "13 es impar\n",
            "14 es par\n",
            "15 es impar\n",
            "16 es par\n",
            "17 es impar\n",
            "18 es par\n",
            "19 es impar\n",
            "20 es par\n"
          ]
        }
      ],
      "source": [
        "# Iterar sobre los números del 1 al 20\n",
        "for numero in range(1, 21):\n",
        "  # Verificar si es par o impar\n",
        "  if numero % 2 == 0:\n",
        "    print(f\"{numero} es par\")\n",
        "  else:\n",
        "    print(f\"{numero} es impar\")"
      ]
    },
    {
      "cell_type": "markdown",
      "metadata": {
        "id": "Mdwd-RjiGfNl"
      },
      "source": [
        "4) En un ciclo for mostrar para los valores entre 0 y 5 el resultado de elevarlo a la potencia igual a 3"
      ]
    },
    {
      "cell_type": "code",
      "execution_count": 5,
      "metadata": {
        "colab": {
          "base_uri": "https://localhost:8080/"
        },
        "id": "WGuqpOHDGfNm",
        "outputId": "d2f24ac0-b290-4099-9130-afd01156b153"
      },
      "outputs": [
        {
          "name": "stdout",
          "output_type": "stream",
          "text": [
            "0 elevado a la potencia 3 es: 0\n",
            "1 elevado a la potencia 3 es: 1\n",
            "2 elevado a la potencia 3 es: 8\n",
            "3 elevado a la potencia 3 es: 27\n",
            "4 elevado a la potencia 3 es: 64\n",
            "5 elevado a la potencia 3 es: 125\n"
          ]
        }
      ],
      "source": [
        "# Iterar sobre los números del 0 al 5\n",
        "for numero in range(6):\n",
        "  # Elevar el número a la potencia 3 e imprimir el resultado\n",
        "  print(f\"{numero} elevado a la potencia 3 es: {numero**3}\")"
      ]
    },
    {
      "cell_type": "markdown",
      "metadata": {
        "id": "S3clpSopGfNm"
      },
      "source": [
        "5) Crear una variable que contenga un número entero y realizar un ciclo for la misma cantidad de ciclos"
      ]
    },
    {
      "cell_type": "code",
      "execution_count": 6,
      "metadata": {
        "colab": {
          "base_uri": "https://localhost:8080/"
        },
        "id": "NAGFVPMcGfNn",
        "outputId": "71aa1c07-7383-4e56-f777-9ca813edbaf1"
      },
      "outputs": [
        {
          "name": "stdout",
          "output_type": "stream",
          "text": [
            "Ciclo número: 1\n",
            "Ciclo número: 2\n",
            "Ciclo número: 3\n",
            "Ciclo número: 4\n",
            "Ciclo número: 5\n"
          ]
        }
      ],
      "source": [
        "# Crear una variable con un número entero\n",
        "cantidad_ciclos = 5\n",
        "\n",
        "# Realizar un ciclo for la misma cantidad de ciclos\n",
        "for i in range(cantidad_ciclos):\n",
        "  print(f\"Ciclo número: {i+1}\")"
      ]
    },
    {
      "cell_type": "markdown",
      "metadata": {
        "id": "k9GidpynGfNo"
      },
      "source": [
        "6) Utilizar un ciclo while para realizar el factorial de un número guardado en una variable, sólo si la variable contiene un número entero mayor a 0"
      ]
    },
    {
      "cell_type": "code",
      "execution_count": 7,
      "metadata": {
        "colab": {
          "base_uri": "https://localhost:8080/"
        },
        "id": "xcqMsUcFGfNo",
        "outputId": "cfafaf22-02c2-4a1c-f49c-f1068ff891d1"
      },
      "outputs": [
        {
          "name": "stdout",
          "output_type": "stream",
          "text": [
            "El factorial de 5 es: 120\n"
          ]
        }
      ],
      "source": [
        "# Crear una variable para el factorial\n",
        "numero_factorial = 5\n",
        "factorial = 1\n",
        "\n",
        "# Verificar si es un número entero mayor a 0\n",
        "if isinstance(numero_factorial, int) and numero_factorial > 0:\n",
        "  # Realizar el factorial con un ciclo while\n",
        "  i = 1\n",
        "  while i <= numero_factorial:\n",
        "    factorial *= i\n",
        "    i += 1\n",
        "  print(f\"El factorial de {numero_factorial} es: {factorial}\")\n",
        "else:\n",
        "  print(\"La variable debe contener un número entero mayor a 0\")"
      ]
    },
    {
      "cell_type": "markdown",
      "metadata": {
        "id": "XR34ijKkGfNo"
      },
      "source": [
        "7) Crear un ciclo for dentro de un ciclo while"
      ]
    },
    {
      "cell_type": "code",
      "execution_count": 8,
      "metadata": {
        "colab": {
          "base_uri": "https://localhost:8080/"
        },
        "id": "_j8-fVrjGfNp",
        "outputId": "a8e8b108-3173-44d6-e382-8f4b35ca41e6"
      },
      "outputs": [
        {
          "name": "stdout",
          "output_type": "stream",
          "text": [
            "Ciclo while: 0\n",
            "  Ciclo for: 0\n",
            "  Ciclo for: 1\n",
            "Ciclo while: 1\n",
            "  Ciclo for: 0\n",
            "  Ciclo for: 1\n",
            "Ciclo while: 2\n",
            "  Ciclo for: 0\n",
            "  Ciclo for: 1\n"
          ]
        }
      ],
      "source": [
        "# Crear un ciclo while\n",
        "contador_while = 0\n",
        "while contador_while < 3:\n",
        "  print(f\"Ciclo while: {contador_while}\")\n",
        "  # Crear un ciclo for dentro del while\n",
        "  for contador_for in range(2):\n",
        "    print(f\"  Ciclo for: {contador_for}\")\n",
        "  contador_while += 1"
      ]
    },
    {
      "cell_type": "markdown",
      "metadata": {
        "id": "qRabswWoGfNp"
      },
      "source": [
        "8) Crear un ciclo while dentro de un ciclo for"
      ]
    },
    {
      "cell_type": "code",
      "execution_count": 9,
      "metadata": {
        "colab": {
          "base_uri": "https://localhost:8080/"
        },
        "id": "nM_hKheuGfNq",
        "outputId": "f7bb0ac3-9971-477e-95df-0bd5e8f3bdba"
      },
      "outputs": [
        {
          "name": "stdout",
          "output_type": "stream",
          "text": [
            "Ciclo for: 0\n",
            "  Ciclo while: 0\n",
            "  Ciclo while: 1\n",
            "Ciclo for: 1\n",
            "  Ciclo while: 0\n",
            "  Ciclo while: 1\n",
            "Ciclo for: 2\n",
            "  Ciclo while: 0\n",
            "  Ciclo while: 1\n"
          ]
        }
      ],
      "source": [
        "# Crear un ciclo for\n",
        "for contador_for in range(3):\n",
        "  print(f\"Ciclo for: {contador_for}\")\n",
        "  # Crear un ciclo while dentro del for\n",
        "  contador_while = 0\n",
        "  while contador_while < 2:\n",
        "    print(f\"  Ciclo while: {contador_while}\")\n",
        "    contador_while += 1"
      ]
    },
    {
      "cell_type": "markdown",
      "metadata": {
        "id": "NZm0_jLXGfNq"
      },
      "source": [
        "9) Imprimir los números primos existentes entre 0 y 30"
      ]
    },
    {
      "cell_type": "code",
      "execution_count": 10,
      "metadata": {
        "colab": {
          "base_uri": "https://localhost:8080/"
        },
        "id": "9jP-8ToYGfNr",
        "outputId": "f03ee77d-5ab6-4138-f1c5-2852d4c6d032"
      },
      "outputs": [
        {
          "name": "stdout",
          "output_type": "stream",
          "text": [
            "Números primos entre 0 y 30:\n",
            "2\n",
            "3\n",
            "5\n",
            "7\n",
            "11\n",
            "13\n",
            "17\n",
            "19\n",
            "23\n",
            "29\n"
          ]
        }
      ],
      "source": [
        "# Función para verificar si un número es primo\n",
        "def es_primo(numero):\n",
        "  if numero < 2:\n",
        "    return False\n",
        "  for i in range(2, int(numero**0.5) + 1):\n",
        "    if numero % i == 0:\n",
        "      return False\n",
        "  return True\n",
        "\n",
        "# Imprimir los números primos entre 0 y 30\n",
        "print(\"Números primos entre 0 y 30:\")\n",
        "for numero in range(31):\n",
        "  if es_primo(numero):\n",
        "    print(numero)"
      ]
    },
    {
      "cell_type": "markdown",
      "metadata": {
        "id": "Bcjor3OeGfNr"
      },
      "source": [
        "10) ¿Se puede mejorar el proceso del punto 9? Utilizar las sentencias break y/ó continue para tal fin"
      ]
    },
    {
      "cell_type": "code",
      "execution_count": 11,
      "metadata": {
        "colab": {
          "base_uri": "https://localhost:8080/"
        },
        "id": "LOYyL5vfGfNr",
        "outputId": "70b2b949-8830-43d4-d450-ce2a20638d3d"
      },
      "outputs": [
        {
          "name": "stdout",
          "output_type": "stream",
          "text": [
            "Números primos entre 0 y 30 (optimizado):\n",
            "2\n",
            "3\n",
            "5\n",
            "7\n",
            "11\n",
            "13\n",
            "17\n",
            "19\n",
            "23\n",
            "29\n"
          ]
        }
      ],
      "source": [
        "# Función optimizada para verificar si un número es primo\n",
        "def es_primo_optimizado(numero):\n",
        "  if numero < 2:\n",
        "    return False\n",
        "  if numero == 2:\n",
        "    return True\n",
        "  if numero % 2 == 0:\n",
        "    return False\n",
        "  for i in range(3, int(numero**0.5) + 1, 2):\n",
        "    if numero % i == 0:\n",
        "      return False\n",
        "  return True\n",
        "\n",
        "# Imprimir los números primos entre 0 y 30 utilizando la función optimizada\n",
        "print(\"Números primos entre 0 y 30 (optimizado):\")\n",
        "for numero in range(31):\n",
        "  if es_primo_optimizado(numero):\n",
        "    print(numero)"
      ]
    },
    {
      "cell_type": "markdown",
      "metadata": {
        "id": "rvVZxpguGfNs"
      },
      "source": [
        "11) En los puntos 9 y 10, se diseño un código que encuentra números primos y además se lo optimizó. ¿Es posible saber en qué medida se optimizó?"
      ]
    },
    {
      "cell_type": "code",
      "execution_count": 11,
      "metadata": {
        "colab": {
          "base_uri": "https://localhost:8080/"
        },
        "id": "6QuckS01GfNs",
        "outputId": "ae069ac0-9bab-4f0e-b704-bddda2857b22"
      },
      "outputs": [
        {
          "name": "stdout",
          "output_type": "stream",
          "text": [
            "Ejecutando función original...\n",
            "Tiempo de ejecución (original): 0.000409 segundos\n",
            "Ejecutando función optimizada...\n",
            "Tiempo de ejecución (optimizado): 0.000232 segundos\n",
            "La optimización mejoró el rendimiento en aproximadamente un 43.36%\n"
          ]
        }
      ],
      "source": [
        "import time\n",
        "\n",
        "# Medir el tiempo de ejecución de la función original\n",
        "start_time = time.time()\n",
        "print(\"Ejecutando función original...\")\n",
        "for numero in range(101): # Aumentamos el rango para una mejor comparación\n",
        "    es_primo(numero)\n",
        "end_time = time.time()\n",
        "tiempo_original = end_time - start_time\n",
        "print(f\"Tiempo de ejecución (original): {tiempo_original:.6f} segundos\")\n",
        "\n",
        "# Medir el tiempo de ejecución de la función optimizada\n",
        "start_time = time.time()\n",
        "print(\"Ejecutando función optimizada...\")\n",
        "for numero in range(101): # Mismo rango para comparación\n",
        "    es_primo_optimizado(numero)\n",
        "end_time = time.time()\n",
        "tiempo_optimizado = end_time - start_time\n",
        "print(f\"Tiempo de ejecución (optimizado): {tiempo_optimizado:.6f} segundos\")\n",
        "\n",
        "# Comparar los tiempos\n",
        "if tiempo_original > 0:\n",
        "  mejora_porcentaje = ((tiempo_original - tiempo_optimizado) / tiempo_original) * 100\n",
        "  print(f\"La optimización mejoró el rendimiento en aproximadamente un {mejora_porcentaje:.2f}%\")\n",
        "else:\n",
        "  print(\"No se pudo calcular la mejora porcentual (tiempo original es cero)\")"
      ]
    },
    {
      "cell_type": "markdown",
      "metadata": {
        "id": "0149P3AnGfNs"
      },
      "source": [
        "12) Aplicando continue, armar un ciclo while que solo imprima los valores divisibles por 12, dentro del rango de números de 100 a 300"
      ]
    },
    {
      "cell_type": "code",
      "execution_count": 12,
      "metadata": {
        "colab": {
          "base_uri": "https://localhost:8080/"
        },
        "id": "CcNaHZeTGfNs",
        "outputId": "9b4fd3d9-a9b4-4d33-e832-331364b7ca6b"
      },
      "outputs": [
        {
          "name": "stdout",
          "output_type": "stream",
          "text": [
            "108\n",
            "120\n",
            "132\n",
            "144\n",
            "156\n",
            "168\n",
            "180\n",
            "192\n",
            "204\n",
            "216\n",
            "228\n",
            "240\n",
            "252\n",
            "264\n",
            "276\n",
            "288\n",
            "300\n"
          ]
        }
      ],
      "source": [
        "# Ciclo while para imprimir números divisibles por 12 entre 100 y 300\n",
        "numero = 100\n",
        "while numero <= 300:\n",
        "  # Si el número no es divisible por 12, saltar a la siguiente iteración\n",
        "  if numero % 12 != 0:\n",
        "    numero += 1\n",
        "    continue\n",
        "  # Si es divisible por 12, imprimirlo\n",
        "  print(numero)\n",
        "  numero += 1"
      ]
    },
    {
      "cell_type": "markdown",
      "metadata": {
        "id": "Sam9EMB4GfNt"
      },
      "source": [
        "13) Utilizar la función **input()** que permite hacer ingresos por teclado, para encontrar números primos y dar la opción al usario de buscar el siguiente"
      ]
    },
    {
      "cell_type": "code",
      "execution_count": null,
      "metadata": {
        "colab": {
          "base_uri": "https://localhost:8080/"
        },
        "id": "owKDoVwLGfNt",
        "outputId": "48ba4bef-8d97-4e81-c609-f9ae257159ba"
      },
      "outputs": [
        {
          "name": "stdout",
          "output_type": "stream",
          "text": [
            "Número primo encontrado: 2\n",
            "Número primo encontrado: 3\n",
            "Número primo encontrado: 5\n",
            "Número primo encontrado: 7\n",
            "Número primo encontrado: 11\n",
            "Número primo encontrado: 13\n",
            "Número primo encontrado: 17\n",
            "Número primo encontrado: 19\n",
            "Número primo encontrado: 23\n",
            "Número primo encontrado: 29\n"
          ]
        }
      ],
      "source": [
        "# Función para verificar si un número es primo\n",
        "def es_primo(numero):\n",
        "  if numero < 2:\n",
        "    return False\n",
        "  for i in range(2, int(numero**0.5) + 1):\n",
        "    if numero % i == 0:\n",
        "      return False\n",
        "  return True\n",
        "\n",
        "# Utilizar input para encontrar números primos\n",
        "numero_actual = 0\n",
        "while True:\n",
        "  if es_primo(numero_actual):\n",
        "    print(f\"Número primo encontrado: {numero_actual}\")\n",
        "    respuesta = input(\"¿Buscar el siguiente número primo? (s/n): \")\n",
        "    if respuesta.lower() != 's':\n",
        "      break\n",
        "  numero_actual += 1"
      ]
    },
    {
      "cell_type": "markdown",
      "metadata": {
        "id": "5OKxFee5GfNt"
      },
      "source": [
        "14) Crear un ciclo while que encuentre dentro del rango de 100 a 300 el primer número divisible por 3 y además múltiplo de 6"
      ]
    },
    {
      "cell_type": "code",
      "execution_count": 14,
      "metadata": {
        "colab": {
          "base_uri": "https://localhost:8080/"
        },
        "id": "PFFxOmQdGfNu",
        "outputId": "160b0548-d07a-4b93-bd5b-71d2269a055b"
      },
      "outputs": [
        {
          "name": "stdout",
          "output_type": "stream",
          "text": [
            "El primer número divisible por 3 y múltiplo de 6 entre 100 y 300 es: 102\n"
          ]
        }
      ],
      "source": [
        "# Ciclo while para encontrar el primer número entre 100 y 300 divisible por 3 y múltiplo de 6\n",
        "numero = 100\n",
        "while numero <= 300:\n",
        "  # Verificar si es divisible por 3 y múltiplo de 6\n",
        "  if numero % 3 == 0 and numero % 6 == 0:\n",
        "    print(f\"El primer número divisible por 3 y múltiplo de 6 entre 100 y 300 es: {numero}\")\n",
        "    break # Salir del ciclo una vez encontrado el número\n",
        "  numero += 1"
      ]
    }
  ],
  "metadata": {
    "colab": {
      "provenance": []
    },
    "kernelspec": {
      "display_name": "Python 3",
      "language": "python",
      "name": "python3"
    },
    "language_info": {
      "codemirror_mode": {
        "name": "ipython",
        "version": 3
      },
      "file_extension": ".py",
      "mimetype": "text/x-python",
      "name": "python",
      "nbconvert_exporter": "python",
      "pygments_lexer": "ipython3",
      "version": "3.13.5"
    }
  },
  "nbformat": 4,
  "nbformat_minor": 0
}

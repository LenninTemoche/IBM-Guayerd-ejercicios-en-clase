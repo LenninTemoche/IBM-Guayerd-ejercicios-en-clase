{
  "cells": [
    {
      "cell_type": "markdown",
      "metadata": {
        "id": "8tApThjKVFnS"
      },
      "source": [
        "## Variables"
      ]
    },
    {
      "cell_type": "markdown",
      "metadata": {
        "id": "1tEE-yymVFnX"
      },
      "source": [
        "1) Crear una variable que contenga un elemento del conjunto de números enteros y luego imprimir por pantalla"
      ]
    },
    {
      "cell_type": "code",
      "execution_count": 1,
      "metadata": {
        "colab": {
          "base_uri": "https://localhost:8080/"
        },
        "id": "pKytHEIfVFnY",
        "outputId": "dceef181-4728-4840-a75c-64012ef9dd4c"
      },
      "outputs": [
        {
          "name": "stdout",
          "output_type": "stream",
          "text": [
            "10\n"
          ]
        }
      ],
      "source": [
        "numero_entero = 10\n",
        "print(numero_entero)"
      ]
    },
    {
      "cell_type": "markdown",
      "metadata": {
        "id": "3aixo6YxVFnZ"
      },
      "source": [
        "2) Imprimir el tipo de dato de la constante 8.5"
      ]
    },
    {
      "cell_type": "code",
      "execution_count": 2,
      "metadata": {
        "colab": {
          "base_uri": "https://localhost:8080/"
        },
        "id": "osuVE6xMVFnZ",
        "outputId": "b6c6b100-6d2e-4467-fb4b-d6593da0ea50"
      },
      "outputs": [
        {
          "name": "stdout",
          "output_type": "stream",
          "text": [
            "<class 'float'>\n"
          ]
        }
      ],
      "source": [
        "print(type(8.5))"
      ]
    },
    {
      "cell_type": "markdown",
      "metadata": {
        "id": "LeuRzrTNVFnZ"
      },
      "source": [
        "3) Imprimir el tipo de dato de la variable creada en el punto 1"
      ]
    },
    {
      "cell_type": "code",
      "execution_count": 3,
      "metadata": {
        "colab": {
          "base_uri": "https://localhost:8080/"
        },
        "id": "tMP7Hcj6VFna",
        "outputId": "f8ec5889-4446-482f-e2af-5c146836a103"
      },
      "outputs": [
        {
          "name": "stdout",
          "output_type": "stream",
          "text": [
            "<class 'int'>\n"
          ]
        }
      ],
      "source": [
        "print(type(numero_entero))"
      ]
    },
    {
      "cell_type": "markdown",
      "metadata": {
        "id": "Z92oeZ4eVFnb"
      },
      "source": [
        "4) Crear una variable que contenga tu nombre"
      ]
    },
    {
      "cell_type": "code",
      "execution_count": 4,
      "metadata": {
        "colab": {
          "base_uri": "https://localhost:8080/"
        },
        "id": "hG4iZpK2VFnb",
        "outputId": "b3346b6f-f53f-4072-e4a2-9d75cbdb96a2"
      },
      "outputs": [
        {
          "name": "stdout",
          "output_type": "stream",
          "text": [
            "Lennin Temoche\n"
          ]
        }
      ],
      "source": [
        "nombre = \"Lennin Temoche\" # Reemplaza \"Tu Nombre\" con tu nombre real\n",
        "print(nombre)"
      ]
    },
    {
      "cell_type": "markdown",
      "metadata": {
        "id": "0oWfCArhVFnb"
      },
      "source": [
        "5) Crear una variable que contenga un número complejo"
      ]
    },
    {
      "cell_type": "code",
      "execution_count": 5,
      "metadata": {
        "colab": {
          "base_uri": "https://localhost:8080/"
        },
        "id": "EukKEhVZVFnc",
        "outputId": "27d2a245-bc07-482b-9268-b656198723e8"
      },
      "outputs": [
        {
          "name": "stdout",
          "output_type": "stream",
          "text": [
            "(3+4j)\n"
          ]
        }
      ],
      "source": [
        "numero_complejo = 3 + 4j\n",
        "print(numero_complejo)"
      ]
    },
    {
      "cell_type": "markdown",
      "metadata": {
        "id": "SOZVKgDpVFnc"
      },
      "source": [
        "6) Mostrar el tipo de dato de la variable crada en el punto 5"
      ]
    },
    {
      "cell_type": "code",
      "execution_count": 6,
      "metadata": {
        "colab": {
          "base_uri": "https://localhost:8080/"
        },
        "id": "ykg2xf4MVFnc",
        "outputId": "4ed046f0-68d9-4306-838a-9f1874b639a5"
      },
      "outputs": [
        {
          "name": "stdout",
          "output_type": "stream",
          "text": [
            "<class 'complex'>\n"
          ]
        }
      ],
      "source": [
        "print(type(numero_complejo))"
      ]
    },
    {
      "cell_type": "markdown",
      "metadata": {
        "id": "YiOFtmLiVFnd"
      },
      "source": [
        "7) Crear una variable que contenga el valor del número Pi redondeado a 4 decimales"
      ]
    },
    {
      "cell_type": "code",
      "execution_count": 7,
      "metadata": {
        "colab": {
          "base_uri": "https://localhost:8080/"
        },
        "id": "F8PoelP4VFnd",
        "outputId": "d8d5dc56-6b0d-43f6-80f7-9b887c6a14b6"
      },
      "outputs": [
        {
          "name": "stdout",
          "output_type": "stream",
          "text": [
            "3.1416\n"
          ]
        }
      ],
      "source": [
        "import math\n",
        "pi_redondeado = round(math.pi, 4)\n",
        "print(pi_redondeado)"
      ]
    },
    {
      "cell_type": "markdown",
      "metadata": {
        "id": "e_02jCiPVFne"
      },
      "source": [
        "8) Crear una variable que contenga el valor 'True' y otra que contenga el valor True. ¿Se trata de lo mismo?"
      ]
    },
    {
      "cell_type": "code",
      "execution_count": 8,
      "metadata": {
        "id": "8uACM0J_VFne"
      },
      "outputs": [],
      "source": [
        "variable_string = 'True'\n",
        "variable_boolean = True\n",
        "# No se trata de lo mismo. 'True' es una cadena de texto (string), mientras que True es un valor booleano."
      ]
    },
    {
      "cell_type": "markdown",
      "metadata": {
        "id": "Nqru_PuoVFnf"
      },
      "source": [
        "9) Imprimir el tipo de dato correspondientes a las variables creadas en el punto 8"
      ]
    },
    {
      "cell_type": "code",
      "execution_count": 9,
      "metadata": {
        "colab": {
          "base_uri": "https://localhost:8080/"
        },
        "id": "Gh6zzQYTVFng",
        "outputId": "c208953e-972a-4137-d7c9-e819eb7f7617"
      },
      "outputs": [
        {
          "name": "stdout",
          "output_type": "stream",
          "text": [
            "<class 'str'>\n",
            "<class 'bool'>\n"
          ]
        }
      ],
      "source": [
        "print(type(variable_string))\n",
        "print(type(variable_boolean))"
      ]
    },
    {
      "cell_type": "markdown",
      "metadata": {
        "id": "SkZMlddWVFng"
      },
      "source": [
        "10) Asignar a una variable, la suma de un número entero y otro decimal"
      ]
    },
    {
      "cell_type": "code",
      "execution_count": 10,
      "metadata": {
        "colab": {
          "base_uri": "https://localhost:8080/"
        },
        "id": "d2953W1JVFng",
        "outputId": "895a94f8-a0c7-4762-8f34-6b45da23bfe2"
      },
      "outputs": [
        {
          "name": "stdout",
          "output_type": "stream",
          "text": [
            "8.14\n"
          ]
        }
      ],
      "source": [
        "suma_entero_decimal = 5 + 3.14\n",
        "print(suma_entero_decimal)"
      ]
    },
    {
      "cell_type": "markdown",
      "metadata": {
        "id": "Au3lhs9OVFnh"
      },
      "source": [
        "11) Realizar una operación de suma de números complejos"
      ]
    },
    {
      "cell_type": "code",
      "execution_count": 11,
      "metadata": {
        "colab": {
          "base_uri": "https://localhost:8080/"
        },
        "id": "5-uVopGaVFnh",
        "outputId": "09344c6e-45ce-48be-d5df-e4cec5deb212"
      },
      "outputs": [
        {
          "name": "stdout",
          "output_type": "stream",
          "text": [
            "(3+1j)\n"
          ]
        }
      ],
      "source": [
        "complejo1 = 2 + 3j\n",
        "complejo2 = 1 - 2j\n",
        "suma_complejos = complejo1 + complejo2\n",
        "print(suma_complejos)"
      ]
    },
    {
      "cell_type": "markdown",
      "metadata": {
        "id": "5YwqwWyxVFnh"
      },
      "source": [
        "12) Realizar una operación de suma de un número real y otro complejo"
      ]
    },
    {
      "cell_type": "code",
      "execution_count": 12,
      "metadata": {
        "colab": {
          "base_uri": "https://localhost:8080/"
        },
        "id": "6L2bqXfUVFnh",
        "outputId": "7c6e032f-a235-4acc-9d5e-ae6a76bcb42c"
      },
      "outputs": [
        {
          "name": "stdout",
          "output_type": "stream",
          "text": [
            "(15+2j)\n"
          ]
        }
      ],
      "source": [
        "real = 10\n",
        "complejo = 5 + 2j\n",
        "suma_real_complejo = real + complejo\n",
        "print(suma_real_complejo)"
      ]
    },
    {
      "cell_type": "markdown",
      "metadata": {
        "id": "6QXEd-PGVFnh"
      },
      "source": [
        "13) Realizar una operación de multiplicación"
      ]
    },
    {
      "cell_type": "code",
      "execution_count": 13,
      "metadata": {
        "colab": {
          "base_uri": "https://localhost:8080/"
        },
        "id": "en3jl1kcVFnh",
        "outputId": "709da754-fd4b-4a42-ac9e-d03a66319fd9"
      },
      "outputs": [
        {
          "name": "stdout",
          "output_type": "stream",
          "text": [
            "21\n"
          ]
        }
      ],
      "source": [
        "num1 = 7\n",
        "num2 = 3\n",
        "multiplicacion = num1 * num2\n",
        "print(multiplicacion)"
      ]
    },
    {
      "cell_type": "markdown",
      "metadata": {
        "id": "pH1VdUupVFni"
      },
      "source": [
        "14) Mostrar el resultado de elevar 2 a la octava potencia"
      ]
    },
    {
      "cell_type": "code",
      "execution_count": 14,
      "metadata": {
        "colab": {
          "base_uri": "https://localhost:8080/"
        },
        "id": "wPsWXY4LVFni",
        "outputId": "6d4e73ea-0665-43df-9b2d-373d370ca53e"
      },
      "outputs": [
        {
          "name": "stdout",
          "output_type": "stream",
          "text": [
            "256\n"
          ]
        }
      ],
      "source": [
        "potencia = 2 ** 8\n",
        "print(potencia)"
      ]
    },
    {
      "cell_type": "markdown",
      "metadata": {
        "id": "cA3TdCxMVFni"
      },
      "source": [
        "15) Obtener el cociente de la división de 27 entre 4 en una variable y luego mostrarla"
      ]
    },
    {
      "cell_type": "code",
      "execution_count": 15,
      "metadata": {
        "colab": {
          "base_uri": "https://localhost:8080/"
        },
        "id": "UEBTyBeZVFni",
        "outputId": "7b34bc94-d694-436e-c511-205d221601b4"
      },
      "outputs": [
        {
          "name": "stdout",
          "output_type": "stream",
          "text": [
            "6.75\n"
          ]
        }
      ],
      "source": [
        "cociente = 27 / 4\n",
        "print(cociente)"
      ]
    },
    {
      "cell_type": "markdown",
      "metadata": {
        "id": "TzcPBvxkVFni"
      },
      "source": [
        "16) De la división anterior solamente mostrar la parte entera"
      ]
    },
    {
      "cell_type": "code",
      "execution_count": 16,
      "metadata": {
        "colab": {
          "base_uri": "https://localhost:8080/"
        },
        "id": "z1JgBnN0VFnj",
        "outputId": "af96c94a-0dce-40b8-d53f-f0b40c27a9b9"
      },
      "outputs": [
        {
          "name": "stdout",
          "output_type": "stream",
          "text": [
            "6\n"
          ]
        }
      ],
      "source": [
        "parte_entera = 27 // 4\n",
        "print(parte_entera)"
      ]
    },
    {
      "cell_type": "markdown",
      "metadata": {
        "id": "TrvprXGDVFnj"
      },
      "source": [
        "17) De la división de 27 entre 4 mostrar solamente el resto"
      ]
    },
    {
      "cell_type": "code",
      "execution_count": 17,
      "metadata": {
        "colab": {
          "base_uri": "https://localhost:8080/"
        },
        "id": "6GnHptw2VFnj",
        "outputId": "24ad9f85-0224-4404-97ee-578d5a0850c3"
      },
      "outputs": [
        {
          "name": "stdout",
          "output_type": "stream",
          "text": [
            "3\n"
          ]
        }
      ],
      "source": [
        "resto = 27 % 4\n",
        "print(resto)"
      ]
    },
    {
      "cell_type": "markdown",
      "metadata": {
        "id": "psKC-9oUVFnj"
      },
      "source": [
        "18) Utilizando como operandos el número 4 y los resultados obtenidos en los puntos 16 y 17. Obtener 27 como resultado"
      ]
    },
    {
      "cell_type": "code",
      "execution_count": 18,
      "metadata": {
        "colab": {
          "base_uri": "https://localhost:8080/"
        },
        "id": "axq--woqVFnj",
        "outputId": "f37ebf37-1a85-4592-97f8-41182a38380f"
      },
      "outputs": [
        {
          "name": "stdout",
          "output_type": "stream",
          "text": [
            "27\n"
          ]
        }
      ],
      "source": [
        "resultado_16 = 27 // 4\n",
        "resultado_17 = 27 % 4\n",
        "resultado = (resultado_16 * 4) + resultado_17\n",
        "print(resultado)"
      ]
    },
    {
      "cell_type": "markdown",
      "metadata": {
        "id": "W7f3-BK6VFnj"
      },
      "source": [
        "19) Utilizar el operador \"+\" en una operación donde intervengan solo variables alfanuméricas"
      ]
    },
    {
      "cell_type": "code",
      "execution_count": 19,
      "metadata": {
        "colab": {
          "base_uri": "https://localhost:8080/"
        },
        "id": "AdlVMSHoVFnk",
        "outputId": "1a17da69-36b9-4e40-b655-40becb6de9d5"
      },
      "outputs": [
        {
          "name": "stdout",
          "output_type": "stream",
          "text": [
            "Hola Mundo\n"
          ]
        }
      ],
      "source": [
        "cadena1 = \"Hola\"\n",
        "cadena2 = \" Mundo\"\n",
        "concatenacion = cadena1 + cadena2\n",
        "print(concatenacion)"
      ]
    },
    {
      "cell_type": "markdown",
      "metadata": {
        "id": "iBWy_qqaVFnp"
      },
      "source": [
        "20) Evaluar si \"2\" es igual a 2. ¿Por qué ocurre eso?"
      ]
    },
    {
      "cell_type": "code",
      "execution_count": 20,
      "metadata": {
        "colab": {
          "base_uri": "https://localhost:8080/"
        },
        "id": "ka99ae7hVFnp",
        "outputId": "fc2a8b6b-2259-4a92-e63c-b0b4e102ce98"
      },
      "outputs": [
        {
          "name": "stdout",
          "output_type": "stream",
          "text": [
            "False\n"
          ]
        }
      ],
      "source": [
        "print(\"2\" == 2)\n",
        "# Esto ocurre porque \"2\" es una cadena de texto (string) y 2 es un número entero (int).\n",
        "# Python considera que son tipos de datos diferentes y por lo tanto no son iguales en este caso."
      ]
    },
    {
      "cell_type": "markdown",
      "metadata": {
        "id": "4e-KqFQ_VFnp"
      },
      "source": [
        "21) Utilizar las funciones de cambio de tipo de dato, para que la validación del punto 20 resulte verdadera"
      ]
    },
    {
      "cell_type": "code",
      "execution_count": 21,
      "metadata": {
        "colab": {
          "base_uri": "https://localhost:8080/"
        },
        "id": "O0HsIsLgVFnq",
        "outputId": "4496aed9-cf6a-4c21-e22d-4f12a625bfcd"
      },
      "outputs": [
        {
          "name": "stdout",
          "output_type": "stream",
          "text": [
            "True\n",
            "True\n"
          ]
        }
      ],
      "source": [
        "print(int(\"2\") == 2)\n",
        "# O también:\n",
        "print(\"2\" == str(2))"
      ]
    },
    {
      "cell_type": "markdown",
      "metadata": {
        "id": "Mn9PTICQVFnq"
      },
      "source": [
        "22) ¿Por qué arroja error el siguiente cambio de tipo de datos? a = float('3,8')"
      ]
    },
    {
      "cell_type": "code",
      "execution_count": 22,
      "metadata": {
        "colab": {
          "base_uri": "https://localhost:8080/",
          "height": 176
        },
        "collapsed": true,
        "id": "cIx7cQ-KVFnq",
        "outputId": "886ebe6b-4615-4b66-9697-6b72ae2a0a18"
      },
      "outputs": [
        {
          "ename": "ValueError",
          "evalue": "could not convert string to float: '3,8'",
          "output_type": "error",
          "traceback": [
            "\u001b[31m---------------------------------------------------------------------------\u001b[39m",
            "\u001b[31mValueError\u001b[39m                                Traceback (most recent call last)",
            "\u001b[36mCell\u001b[39m\u001b[36m \u001b[39m\u001b[32mIn[22]\u001b[39m\u001b[32m, line 1\u001b[39m\n\u001b[32m----> \u001b[39m\u001b[32m1\u001b[39m a = \u001b[38;5;28;43mfloat\u001b[39;49m\u001b[43m(\u001b[49m\u001b[33;43m'\u001b[39;49m\u001b[33;43m3,8\u001b[39;49m\u001b[33;43m'\u001b[39;49m\u001b[43m)\u001b[49m\n\u001b[32m      2\u001b[39m \u001b[38;5;66;03m# Arroja error porque en Python, el separador decimal es el punto (.), no la coma (,).\u001b[39;00m\n\u001b[32m      3\u001b[39m \u001b[38;5;66;03m# Para que funcione, debería ser: a = float('3.8')\u001b[39;00m\n",
            "\u001b[31mValueError\u001b[39m: could not convert string to float: '3,8'"
          ]
        }
      ],
      "source": [
        "a = float('3,8')\n",
        "# Arroja error porque en Python, el separador decimal es el punto (.), no la coma (,).\n",
        "# Para que funcione, debería ser: a = float('3.8')"
      ]
    },
    {
      "cell_type": "markdown",
      "metadata": {
        "id": "5D8Wmo3KVFnq"
      },
      "source": [
        "23) Crear una variable con el valor 3, y utilizar el operador '-=' para modificar su contenido y que de como resultado 2."
      ]
    },
    {
      "cell_type": "code",
      "execution_count": 23,
      "metadata": {
        "colab": {
          "base_uri": "https://localhost:8080/"
        },
        "id": "lOZFsMaCVFnr",
        "outputId": "712edc11-f4bc-435d-fcad-adb3bdaf6046"
      },
      "outputs": [
        {
          "name": "stdout",
          "output_type": "stream",
          "text": [
            "2\n"
          ]
        }
      ],
      "source": [
        "a = 3\n",
        "a -= 1 # Esto es equivalente a: a = a - 1\n",
        "print(a)"
      ]
    },
    {
      "cell_type": "markdown",
      "metadata": {
        "id": "ZCWQNGaeVFnr"
      },
      "source": [
        "24) Realizar la operacion 1 << 2 ¿Por qué da ese resultado? ¿Qué es el sistema de numeración binario?"
      ]
    },
    {
      "cell_type": "code",
      "execution_count": 24,
      "metadata": {
        "colab": {
          "base_uri": "https://localhost:8080/"
        },
        "id": "8YdDszuKVFnr",
        "outputId": "05010dde-3d84-4fcf-e18c-39fefad16991"
      },
      "outputs": [
        {
          "name": "stdout",
          "output_type": "stream",
          "text": [
            "4\n"
          ]
        }
      ],
      "source": [
        "print(1 << 2)\n",
        "# El resultado es 4.\n",
        "# Esto es una operación de desplazamiento de bits a la izquierda. El número 1 en binario es 0001.\n",
        "# El operador << 2 desplaza los bits dos posiciones a la izquierda, agregando ceros al final: 0100.\n",
        "# En el sistema decimal, 0100 en binario es 4.\n"
      ]
    },
    {
      "cell_type": "markdown",
      "metadata": {
        "id": "mIgmPqFCVFnr"
      },
      "source": [
        "25) Realizar la operación 2 + '2' ¿Por qué no está permitido? ¿Si los dos operandos serían del mismo tipo, siempre arrojaría el mismo resultado?"
      ]
    },
    {
      "cell_type": "code",
      "execution_count": 25,
      "metadata": {
        "colab": {
          "base_uri": "https://localhost:8080/",
          "height": 228
        },
        "collapsed": true,
        "id": "z4vubONCVFnr",
        "outputId": "8abc280c-0f8e-476f-c086-c9c9c5f30ad6"
      },
      "outputs": [
        {
          "ename": "TypeError",
          "evalue": "unsupported operand type(s) for +: 'int' and 'str'",
          "output_type": "error",
          "traceback": [
            "\u001b[31m---------------------------------------------------------------------------\u001b[39m",
            "\u001b[31mTypeError\u001b[39m                                 Traceback (most recent call last)",
            "\u001b[36mCell\u001b[39m\u001b[36m \u001b[39m\u001b[32mIn[25]\u001b[39m\u001b[32m, line 1\u001b[39m\n\u001b[32m----> \u001b[39m\u001b[32m1\u001b[39m \u001b[38;5;28mprint\u001b[39m(\u001b[32;43m2\u001b[39;49m\u001b[43m \u001b[49m\u001b[43m+\u001b[49m\u001b[43m \u001b[49m\u001b[33;43m'\u001b[39;49m\u001b[33;43m2\u001b[39;49m\u001b[33;43m'\u001b[39;49m) \u001b[38;5;66;03m# Esto arrojaría un TypeError\u001b[39;00m\n\u001b[32m      2\u001b[39m \u001b[38;5;66;03m# No está permitido porque estás intentando sumar un número entero (int) y una cadena de texto (string).\u001b[39;00m\n",
            "\u001b[31mTypeError\u001b[39m: unsupported operand type(s) for +: 'int' and 'str'"
          ]
        }
      ],
      "source": [
        "print(2 + '2') # Esto arrojaría un TypeError\n",
        "# No está permitido porque estás intentando sumar un número entero (int) y una cadena de texto (string)."
      ]
    },
    {
      "cell_type": "markdown",
      "metadata": {
        "id": "A3K0EvptVFnr"
      },
      "source": [
        "26) Realizar una operación válida entre valores de tipo entero y string"
      ]
    },
    {
      "cell_type": "code",
      "execution_count": 26,
      "metadata": {
        "colab": {
          "base_uri": "https://localhost:8080/"
        },
        "id": "d9Q6hYQmVFns",
        "outputId": "ccd9be55-b69a-46fd-ff58-b18b994a1c92"
      },
      "outputs": [
        {
          "name": "stdout",
          "output_type": "stream",
          "text": [
            "Hola Hola Hola \n",
            "El número es: 10\n"
          ]
        }
      ],
      "source": [
        "# Esto se puede hacer multiplicando una cadena por un entero para repetirla.\n",
        "print(\"Hola \" * 3)\n",
        "# También se puede convertir el entero a string para concatenar.\n",
        "print(\"El número es: \" + str(10))"
      ]
    }
  ],
  "metadata": {
    "colab": {
      "provenance": []
    },
    "kernelspec": {
      "display_name": "Python 3",
      "language": "python",
      "name": "python3"
    },
    "language_info": {
      "codemirror_mode": {
        "name": "ipython",
        "version": 3
      },
      "file_extension": ".py",
      "mimetype": "text/x-python",
      "name": "python",
      "nbconvert_exporter": "python",
      "pygments_lexer": "ipython3",
      "version": "3.13.5"
    }
  },
  "nbformat": 4,
  "nbformat_minor": 0
}
